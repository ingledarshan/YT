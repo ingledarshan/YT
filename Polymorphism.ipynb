{
 "cells": [
  {
   "cell_type": "markdown",
   "id": "f4428733",
   "metadata": {},
   "source": [
    "# Polymorphism\n",
    "\n",
    "Polymorphism is a fundamental concept in programming that allows objects of different types to be treated as instances of a common base type. It enables objects to exhibit different behaviors or have different forms while still sharing a common interface or base class.\n",
    "\n",
    "### inbuilt polymorphic functions"
   ]
  },
  {
   "cell_type": "code",
   "execution_count": 1,
   "id": "e3114074",
   "metadata": {
    "ExecuteTime": {
     "end_time": "2023-05-31T11:43:56.910688Z",
     "start_time": "2023-05-31T11:43:56.901987Z"
    }
   },
   "outputs": [
    {
     "name": "stdout",
     "output_type": "stream",
     "text": [
      "7\n"
     ]
    }
   ],
   "source": [
    "name = \"Darshan\"\n",
    "print(len(name))"
   ]
  },
  {
   "cell_type": "code",
   "execution_count": 2,
   "id": "276480b4",
   "metadata": {
    "ExecuteTime": {
     "end_time": "2023-05-31T11:44:22.242136Z",
     "start_time": "2023-05-31T11:44:22.237640Z"
    }
   },
   "outputs": [
    {
     "name": "stdout",
     "output_type": "stream",
     "text": [
      "3\n"
     ]
    }
   ],
   "source": [
    "l = [10, 20, 30]\n",
    "print(len(l))"
   ]
  },
  {
   "cell_type": "markdown",
   "id": "edb7ee44",
   "metadata": {},
   "source": [
    "### user-defined polymorphic functions"
   ]
  },
  {
   "cell_type": "code",
   "execution_count": 3,
   "id": "45f92437",
   "metadata": {
    "ExecuteTime": {
     "end_time": "2023-05-31T11:46:01.531661Z",
     "start_time": "2023-05-31T11:46:01.525836Z"
    }
   },
   "outputs": [
    {
     "name": "stdout",
     "output_type": "stream",
     "text": [
      "5\n",
      "9\n"
     ]
    }
   ],
   "source": [
    "def addition(a, b, c = 0):\n",
    "    return a+b+c\n",
    "\n",
    "print(addition(2, 3))\n",
    "print(addition(2, 3, 4))"
   ]
  },
  {
   "cell_type": "markdown",
   "id": "5f838c99",
   "metadata": {},
   "source": [
    "### polymorphism in addition operator"
   ]
  },
  {
   "cell_type": "code",
   "execution_count": 4,
   "id": "7655c5d5",
   "metadata": {
    "ExecuteTime": {
     "end_time": "2023-05-31T11:46:50.499862Z",
     "start_time": "2023-05-31T11:46:50.494884Z"
    }
   },
   "outputs": [
    {
     "name": "stdout",
     "output_type": "stream",
     "text": [
      "3\n"
     ]
    }
   ],
   "source": [
    "no1 = 1\n",
    "no2 = 2\n",
    "print(no1+no2)"
   ]
  },
  {
   "cell_type": "code",
   "execution_count": 5,
   "id": "5cdac49d",
   "metadata": {
    "ExecuteTime": {
     "end_time": "2023-05-31T11:47:44.799381Z",
     "start_time": "2023-05-31T11:47:44.794700Z"
    }
   },
   "outputs": [
    {
     "name": "stdout",
     "output_type": "stream",
     "text": [
      "DarshanIngle\n"
     ]
    }
   ],
   "source": [
    "first_name = \"Darshan\"\n",
    "last_name = \"Ingle\"\n",
    "print(first_name+last_name)"
   ]
  },
  {
   "cell_type": "markdown",
   "id": "9e3dddf0",
   "metadata": {},
   "source": [
    "### Polymorphism in Class Methods python code\n",
    "\n",
    "In the context of object-oriented programming, polymorphism allows different classes to implement their own versions of methods defined in a shared base class or interface. This means that objects of different classes can respond to the same method call in different ways, depending on their specific implementation."
   ]
  },
  {
   "cell_type": "code",
   "execution_count": 6,
   "id": "f1a306b0",
   "metadata": {
    "ExecuteTime": {
     "end_time": "2023-05-31T11:52:29.298575Z",
     "start_time": "2023-05-31T11:52:29.288597Z"
    }
   },
   "outputs": [
    {
     "name": "stdout",
     "output_type": "stream",
     "text": [
      "Car vroom vroom\n",
      "Motorcycle broom broom\n",
      "Bicycle tring tring\n"
     ]
    }
   ],
   "source": [
    "class Vehicle:\n",
    "    def drive(self):\n",
    "        pass\n",
    "\n",
    "class Car(Vehicle):\n",
    "    def drive(self):\n",
    "        return \"Car vroom vroom\"\n",
    "\n",
    "\n",
    "class Motorcycle(Vehicle):\n",
    "    def drive(self):\n",
    "        return \"Motorcycle broom broom\"\n",
    "\n",
    "\n",
    "class Bicycle(Vehicle):\n",
    "    def drive(self):\n",
    "        return \"Bicycle tring tring\"\n",
    "\n",
    "c = Car()\n",
    "print(c.drive())\n",
    "\n",
    "m = Motorcycle()\n",
    "print(m.drive())\n",
    "\n",
    "b = Bicycle()\n",
    "print(b.drive())"
   ]
  },
  {
   "cell_type": "code",
   "execution_count": null,
   "id": "aa17b5ab",
   "metadata": {},
   "outputs": [],
   "source": []
  },
  {
   "cell_type": "markdown",
   "id": "4815f6bb",
   "metadata": {},
   "source": [
    "# Real Life Banking Example"
   ]
  },
  {
   "cell_type": "code",
   "execution_count": 7,
   "id": "a9946cc6",
   "metadata": {
    "ExecuteTime": {
     "end_time": "2023-05-31T12:00:10.648832Z",
     "start_time": "2023-05-31T12:00:10.634383Z"
    }
   },
   "outputs": [
    {
     "name": "stdout",
     "output_type": "stream",
     "text": [
      "Account Number: SB001\n",
      "Balance: 1300\n",
      "Interest Earned: 65.0\n",
      "\n",
      "Account Number: CA001\n",
      "Balance: 49400\n",
      "Interest Earned: 0\n",
      "\n",
      "Account Number: FDA001\n",
      "Balance: 100000\n",
      "Interest Earned: 8000.0\n",
      "\n"
     ]
    }
   ],
   "source": [
    "class BankAccount:\n",
    "    def __init__(self, account_number, balance):\n",
    "        self.account_number = account_number\n",
    "        self.balance = balance\n",
    "\n",
    "    def deposit(self, amount):\n",
    "        self.balance += amount\n",
    "\n",
    "    def withdraw(self, amount):\n",
    "        if self.balance >= amount:\n",
    "            self.balance -= amount\n",
    "        else:\n",
    "            print(\"Insufficient funds.\")\n",
    "\n",
    "    def calculate_interest(self):\n",
    "        pass\n",
    "\n",
    "\n",
    "class SavingsAccount(BankAccount):\n",
    "    def calculate_interest(self):\n",
    "        interest_rate = 0.05  # 5%\n",
    "        return self.balance * interest_rate\n",
    "\n",
    "\n",
    "class CheckingAccount(BankAccount):\n",
    "    def calculate_interest(self):\n",
    "        return 0  # Checking accounts have no interest\n",
    "\n",
    "\n",
    "class FixedDepositAccount(BankAccount):\n",
    "    def calculate_interest(self):\n",
    "        interest_rate = 0.08  # 8%\n",
    "        return self.balance * interest_rate\n",
    "\n",
    "\n",
    "# Creating account objects\n",
    "savings_account = SavingsAccount(\"SB001\", 1000)\n",
    "checking_account = CheckingAccount(\"CA001\", 50000)\n",
    "fd_account = FixedDepositAccount(\"FDA001\", 80000)\n",
    "\n",
    "# Performing operations\n",
    "savings_account.deposit(500)\n",
    "savings_account.withdraw(200)\n",
    "checking_account.deposit(100)\n",
    "checking_account.withdraw(700)\n",
    "fd_account.deposit(20000)\n",
    "\n",
    "# Printing account details and interest earned\n",
    "accounts = [savings_account, checking_account, fd_account]\n",
    "for account in accounts:\n",
    "    print(\"Account Number:\", account.account_number)\n",
    "    print(\"Balance:\", account.balance)\n",
    "    print(\"Interest Earned:\", account.calculate_interest())\n",
    "    print()\n"
   ]
  },
  {
   "cell_type": "markdown",
   "id": "1ad8d01d",
   "metadata": {},
   "source": [
    "### Polymorphism provides several benefits, including:\n",
    "\n",
    ">1. __Code reusability__: Polymorphism allows for the creation of generic code that can operate on objects of different types. This promotes code reuse and reduces the need for redundant code.\n",
    "\n",
    ">2. __Flexibility and extensibility__: Polymorphism allows new derived classes to be added without modifying the existing code. This makes the code more flexible and easier to extend with new functionality.\n",
    "\n",
    ">3. __Abstraction and encapsulation__: Polymorphism enables the use of abstract base classes or interfaces to define common behavior and hide the implementation details of individual classes. This promotes encapsulation and abstraction, making the code more maintainable and easier to understand.\n",
    "\n",
    ">4. __Simplified code maintenance__: Polymorphism simplifies code maintenance since modifications or enhancements can be made in a centralized manner. Changes made to the base class or interface can automatically propagate to the derived classes.\n",
    "\n"
   ]
  },
  {
   "cell_type": "markdown",
   "id": "dfc263ef",
   "metadata": {},
   "source": [
    "# Happy Learning"
   ]
  }
 ],
 "metadata": {
  "kernelspec": {
   "display_name": "Python 3 (ipykernel)",
   "language": "python",
   "name": "python3"
  },
  "language_info": {
   "codemirror_mode": {
    "name": "ipython",
    "version": 3
   },
   "file_extension": ".py",
   "mimetype": "text/x-python",
   "name": "python",
   "nbconvert_exporter": "python",
   "pygments_lexer": "ipython3",
   "version": "3.9.13"
  },
  "varInspector": {
   "cols": {
    "lenName": 16,
    "lenType": 16,
    "lenVar": 40
   },
   "kernels_config": {
    "python": {
     "delete_cmd_postfix": "",
     "delete_cmd_prefix": "del ",
     "library": "var_list.py",
     "varRefreshCmd": "print(var_dic_list())"
    },
    "r": {
     "delete_cmd_postfix": ") ",
     "delete_cmd_prefix": "rm(",
     "library": "var_list.r",
     "varRefreshCmd": "cat(var_dic_list()) "
    }
   },
   "types_to_exclude": [
    "module",
    "function",
    "builtin_function_or_method",
    "instance",
    "_Feature"
   ],
   "window_display": false
  }
 },
 "nbformat": 4,
 "nbformat_minor": 5
}
