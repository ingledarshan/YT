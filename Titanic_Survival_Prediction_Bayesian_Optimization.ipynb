{
  "cells": [
    {
      "cell_type": "code",
      "execution_count": 1,
      "metadata": {
        "ExecuteTime": {
          "end_time": "2023-07-07T11:58:27.910914Z",
          "start_time": "2023-07-07T11:58:27.906693Z"
        },
        "id": "_e3IIG_4OKpb",
        "colab": {
          "base_uri": "https://localhost:8080/"
        },
        "outputId": "ffa77f11-9bd8-4e14-8f7a-648629a12291"
      },
      "outputs": [
        {
          "output_type": "stream",
          "name": "stdout",
          "text": [
            "Requirement already satisfied: hyperopt in /usr/local/lib/python3.10/dist-packages (0.2.7)\n",
            "Requirement already satisfied: numpy in /usr/local/lib/python3.10/dist-packages (from hyperopt) (1.22.4)\n",
            "Requirement already satisfied: scipy in /usr/local/lib/python3.10/dist-packages (from hyperopt) (1.10.1)\n",
            "Requirement already satisfied: six in /usr/local/lib/python3.10/dist-packages (from hyperopt) (1.16.0)\n",
            "Requirement already satisfied: networkx>=2.2 in /usr/local/lib/python3.10/dist-packages (from hyperopt) (3.1)\n",
            "Requirement already satisfied: future in /usr/local/lib/python3.10/dist-packages (from hyperopt) (0.18.3)\n",
            "Requirement already satisfied: tqdm in /usr/local/lib/python3.10/dist-packages (from hyperopt) (4.65.0)\n",
            "Requirement already satisfied: cloudpickle in /usr/local/lib/python3.10/dist-packages (from hyperopt) (2.2.1)\n",
            "Requirement already satisfied: py4j in /usr/local/lib/python3.10/dist-packages (from hyperopt) (0.10.9.7)\n"
          ]
        }
      ],
      "source": [
        "!pip install hyperopt"
      ]
    },
    {
      "cell_type": "code",
      "execution_count": 2,
      "metadata": {
        "ExecuteTime": {
          "end_time": "2023-07-07T11:58:52.079992Z",
          "start_time": "2023-07-07T11:58:51.425829Z"
        },
        "id": "TCzu8FXGOKpe",
        "colab": {
          "base_uri": "https://localhost:8080/"
        },
        "outputId": "633523aa-44b2-4289-af4b-5ea51d2e2528"
      },
      "outputs": [
        {
          "output_type": "stream",
          "name": "stdout",
          "text": [
            "Requirement already satisfied: bayesian-optimization in /usr/local/lib/python3.10/dist-packages (1.4.3)\n",
            "Requirement already satisfied: numpy>=1.9.0 in /usr/local/lib/python3.10/dist-packages (from bayesian-optimization) (1.22.4)\n",
            "Requirement already satisfied: scipy>=1.0.0 in /usr/local/lib/python3.10/dist-packages (from bayesian-optimization) (1.10.1)\n",
            "Requirement already satisfied: scikit-learn>=0.18.0 in /usr/local/lib/python3.10/dist-packages (from bayesian-optimization) (1.2.2)\n",
            "Requirement already satisfied: colorama>=0.4.6 in /usr/local/lib/python3.10/dist-packages (from bayesian-optimization) (0.4.6)\n",
            "Requirement already satisfied: joblib>=1.1.1 in /usr/local/lib/python3.10/dist-packages (from scikit-learn>=0.18.0->bayesian-optimization) (1.2.0)\n",
            "Requirement already satisfied: threadpoolctl>=2.0.0 in /usr/local/lib/python3.10/dist-packages (from scikit-learn>=0.18.0->bayesian-optimization) (3.1.0)\n"
          ]
        }
      ],
      "source": [
        "!pip install bayesian-optimization"
      ]
    },
    {
      "cell_type": "code",
      "source": [
        "import numpy as np\n",
        "import pandas as pd\n",
        "import matplotlib.pyplot as plt\n",
        "import seaborn as sns\n",
        "\n",
        "import warnings\n",
        "warnings.filterwarnings(\"ignore\")"
      ],
      "metadata": {
        "id": "bOOc3qa3RpGp"
      },
      "execution_count": 3,
      "outputs": []
    },
    {
      "cell_type": "code",
      "source": [
        "df = pd.read_csv(\"https://raw.githubusercontent.com/ingledarshan/YT/main/titanic.csv\")\n",
        "df.shape"
      ],
      "metadata": {
        "colab": {
          "base_uri": "https://localhost:8080/"
        },
        "id": "yQhuwdpLRpJv",
        "outputId": "f9966653-6336-420e-fc24-0bf51bcc8e4c"
      },
      "execution_count": 4,
      "outputs": [
        {
          "output_type": "execute_result",
          "data": {
            "text/plain": [
              "(891, 12)"
            ]
          },
          "metadata": {},
          "execution_count": 4
        }
      ]
    },
    {
      "cell_type": "code",
      "source": [
        "df.head()"
      ],
      "metadata": {
        "colab": {
          "base_uri": "https://localhost:8080/",
          "height": 302
        },
        "id": "PDyLmwM4RqkL",
        "outputId": "b05d6994-7414-4e35-adce-8a1d5ceaf05b"
      },
      "execution_count": 5,
      "outputs": [
        {
          "output_type": "execute_result",
          "data": {
            "text/plain": [
              "   PassengerId  Survived  Pclass  \\\n",
              "0            1         0       3   \n",
              "1            2         1       1   \n",
              "2            3         1       3   \n",
              "3            4         1       1   \n",
              "4            5         0       3   \n",
              "\n",
              "                                                Name     Sex   Age  SibSp  \\\n",
              "0                            Braund, Mr. Owen Harris    male  22.0      1   \n",
              "1  Cumings, Mrs. John Bradley (Florence Briggs Th...  female  38.0      1   \n",
              "2                             Heikkinen, Miss. Laina  female  26.0      0   \n",
              "3       Futrelle, Mrs. Jacques Heath (Lily May Peel)  female  35.0      1   \n",
              "4                           Allen, Mr. William Henry    male  35.0      0   \n",
              "\n",
              "   Parch            Ticket     Fare Cabin Embarked  \n",
              "0      0         A/5 21171   7.2500   NaN        S  \n",
              "1      0          PC 17599  71.2833   C85        C  \n",
              "2      0  STON/O2. 3101282   7.9250   NaN        S  \n",
              "3      0            113803  53.1000  C123        S  \n",
              "4      0            373450   8.0500   NaN        S  "
            ],
            "text/html": [
              "\n",
              "  <div id=\"df-ea1ddce9-ac18-45fd-bf24-96b2904aa5e3\">\n",
              "    <div class=\"colab-df-container\">\n",
              "      <div>\n",
              "<style scoped>\n",
              "    .dataframe tbody tr th:only-of-type {\n",
              "        vertical-align: middle;\n",
              "    }\n",
              "\n",
              "    .dataframe tbody tr th {\n",
              "        vertical-align: top;\n",
              "    }\n",
              "\n",
              "    .dataframe thead th {\n",
              "        text-align: right;\n",
              "    }\n",
              "</style>\n",
              "<table border=\"1\" class=\"dataframe\">\n",
              "  <thead>\n",
              "    <tr style=\"text-align: right;\">\n",
              "      <th></th>\n",
              "      <th>PassengerId</th>\n",
              "      <th>Survived</th>\n",
              "      <th>Pclass</th>\n",
              "      <th>Name</th>\n",
              "      <th>Sex</th>\n",
              "      <th>Age</th>\n",
              "      <th>SibSp</th>\n",
              "      <th>Parch</th>\n",
              "      <th>Ticket</th>\n",
              "      <th>Fare</th>\n",
              "      <th>Cabin</th>\n",
              "      <th>Embarked</th>\n",
              "    </tr>\n",
              "  </thead>\n",
              "  <tbody>\n",
              "    <tr>\n",
              "      <th>0</th>\n",
              "      <td>1</td>\n",
              "      <td>0</td>\n",
              "      <td>3</td>\n",
              "      <td>Braund, Mr. Owen Harris</td>\n",
              "      <td>male</td>\n",
              "      <td>22.0</td>\n",
              "      <td>1</td>\n",
              "      <td>0</td>\n",
              "      <td>A/5 21171</td>\n",
              "      <td>7.2500</td>\n",
              "      <td>NaN</td>\n",
              "      <td>S</td>\n",
              "    </tr>\n",
              "    <tr>\n",
              "      <th>1</th>\n",
              "      <td>2</td>\n",
              "      <td>1</td>\n",
              "      <td>1</td>\n",
              "      <td>Cumings, Mrs. John Bradley (Florence Briggs Th...</td>\n",
              "      <td>female</td>\n",
              "      <td>38.0</td>\n",
              "      <td>1</td>\n",
              "      <td>0</td>\n",
              "      <td>PC 17599</td>\n",
              "      <td>71.2833</td>\n",
              "      <td>C85</td>\n",
              "      <td>C</td>\n",
              "    </tr>\n",
              "    <tr>\n",
              "      <th>2</th>\n",
              "      <td>3</td>\n",
              "      <td>1</td>\n",
              "      <td>3</td>\n",
              "      <td>Heikkinen, Miss. Laina</td>\n",
              "      <td>female</td>\n",
              "      <td>26.0</td>\n",
              "      <td>0</td>\n",
              "      <td>0</td>\n",
              "      <td>STON/O2. 3101282</td>\n",
              "      <td>7.9250</td>\n",
              "      <td>NaN</td>\n",
              "      <td>S</td>\n",
              "    </tr>\n",
              "    <tr>\n",
              "      <th>3</th>\n",
              "      <td>4</td>\n",
              "      <td>1</td>\n",
              "      <td>1</td>\n",
              "      <td>Futrelle, Mrs. Jacques Heath (Lily May Peel)</td>\n",
              "      <td>female</td>\n",
              "      <td>35.0</td>\n",
              "      <td>1</td>\n",
              "      <td>0</td>\n",
              "      <td>113803</td>\n",
              "      <td>53.1000</td>\n",
              "      <td>C123</td>\n",
              "      <td>S</td>\n",
              "    </tr>\n",
              "    <tr>\n",
              "      <th>4</th>\n",
              "      <td>5</td>\n",
              "      <td>0</td>\n",
              "      <td>3</td>\n",
              "      <td>Allen, Mr. William Henry</td>\n",
              "      <td>male</td>\n",
              "      <td>35.0</td>\n",
              "      <td>0</td>\n",
              "      <td>0</td>\n",
              "      <td>373450</td>\n",
              "      <td>8.0500</td>\n",
              "      <td>NaN</td>\n",
              "      <td>S</td>\n",
              "    </tr>\n",
              "  </tbody>\n",
              "</table>\n",
              "</div>\n",
              "      <button class=\"colab-df-convert\" onclick=\"convertToInteractive('df-ea1ddce9-ac18-45fd-bf24-96b2904aa5e3')\"\n",
              "              title=\"Convert this dataframe to an interactive table.\"\n",
              "              style=\"display:none;\">\n",
              "        \n",
              "  <svg xmlns=\"http://www.w3.org/2000/svg\" height=\"24px\"viewBox=\"0 0 24 24\"\n",
              "       width=\"24px\">\n",
              "    <path d=\"M0 0h24v24H0V0z\" fill=\"none\"/>\n",
              "    <path d=\"M18.56 5.44l.94 2.06.94-2.06 2.06-.94-2.06-.94-.94-2.06-.94 2.06-2.06.94zm-11 1L8.5 8.5l.94-2.06 2.06-.94-2.06-.94L8.5 2.5l-.94 2.06-2.06.94zm10 10l.94 2.06.94-2.06 2.06-.94-2.06-.94-.94-2.06-.94 2.06-2.06.94z\"/><path d=\"M17.41 7.96l-1.37-1.37c-.4-.4-.92-.59-1.43-.59-.52 0-1.04.2-1.43.59L10.3 9.45l-7.72 7.72c-.78.78-.78 2.05 0 2.83L4 21.41c.39.39.9.59 1.41.59.51 0 1.02-.2 1.41-.59l7.78-7.78 2.81-2.81c.8-.78.8-2.07 0-2.86zM5.41 20L4 18.59l7.72-7.72 1.47 1.35L5.41 20z\"/>\n",
              "  </svg>\n",
              "      </button>\n",
              "      \n",
              "  <style>\n",
              "    .colab-df-container {\n",
              "      display:flex;\n",
              "      flex-wrap:wrap;\n",
              "      gap: 12px;\n",
              "    }\n",
              "\n",
              "    .colab-df-convert {\n",
              "      background-color: #E8F0FE;\n",
              "      border: none;\n",
              "      border-radius: 50%;\n",
              "      cursor: pointer;\n",
              "      display: none;\n",
              "      fill: #1967D2;\n",
              "      height: 32px;\n",
              "      padding: 0 0 0 0;\n",
              "      width: 32px;\n",
              "    }\n",
              "\n",
              "    .colab-df-convert:hover {\n",
              "      background-color: #E2EBFA;\n",
              "      box-shadow: 0px 1px 2px rgba(60, 64, 67, 0.3), 0px 1px 3px 1px rgba(60, 64, 67, 0.15);\n",
              "      fill: #174EA6;\n",
              "    }\n",
              "\n",
              "    [theme=dark] .colab-df-convert {\n",
              "      background-color: #3B4455;\n",
              "      fill: #D2E3FC;\n",
              "    }\n",
              "\n",
              "    [theme=dark] .colab-df-convert:hover {\n",
              "      background-color: #434B5C;\n",
              "      box-shadow: 0px 1px 3px 1px rgba(0, 0, 0, 0.15);\n",
              "      filter: drop-shadow(0px 1px 2px rgba(0, 0, 0, 0.3));\n",
              "      fill: #FFFFFF;\n",
              "    }\n",
              "  </style>\n",
              "\n",
              "      <script>\n",
              "        const buttonEl =\n",
              "          document.querySelector('#df-ea1ddce9-ac18-45fd-bf24-96b2904aa5e3 button.colab-df-convert');\n",
              "        buttonEl.style.display =\n",
              "          google.colab.kernel.accessAllowed ? 'block' : 'none';\n",
              "\n",
              "        async function convertToInteractive(key) {\n",
              "          const element = document.querySelector('#df-ea1ddce9-ac18-45fd-bf24-96b2904aa5e3');\n",
              "          const dataTable =\n",
              "            await google.colab.kernel.invokeFunction('convertToInteractive',\n",
              "                                                     [key], {});\n",
              "          if (!dataTable) return;\n",
              "\n",
              "          const docLinkHtml = 'Like what you see? Visit the ' +\n",
              "            '<a target=\"_blank\" href=https://colab.research.google.com/notebooks/data_table.ipynb>data table notebook</a>'\n",
              "            + ' to learn more about interactive tables.';\n",
              "          element.innerHTML = '';\n",
              "          dataTable['output_type'] = 'display_data';\n",
              "          await google.colab.output.renderOutput(dataTable, element);\n",
              "          const docLink = document.createElement('div');\n",
              "          docLink.innerHTML = docLinkHtml;\n",
              "          element.appendChild(docLink);\n",
              "        }\n",
              "      </script>\n",
              "    </div>\n",
              "  </div>\n",
              "  "
            ]
          },
          "metadata": {},
          "execution_count": 5
        }
      ]
    },
    {
      "cell_type": "code",
      "source": [
        "df.isna().sum().sort_values(ascending=False)"
      ],
      "metadata": {
        "colab": {
          "base_uri": "https://localhost:8080/"
        },
        "id": "A_Wm7BYjRqnf",
        "outputId": "3c57dfc3-edc5-4b40-c0b9-190557701fe5"
      },
      "execution_count": 6,
      "outputs": [
        {
          "output_type": "execute_result",
          "data": {
            "text/plain": [
              "Cabin          687\n",
              "Age            177\n",
              "Embarked         2\n",
              "PassengerId      0\n",
              "Survived         0\n",
              "Pclass           0\n",
              "Name             0\n",
              "Sex              0\n",
              "SibSp            0\n",
              "Parch            0\n",
              "Ticket           0\n",
              "Fare             0\n",
              "dtype: int64"
            ]
          },
          "metadata": {},
          "execution_count": 6
        }
      ]
    },
    {
      "cell_type": "code",
      "source": [
        "df.drop(['Cabin'], axis=1, inplace=True)"
      ],
      "metadata": {
        "id": "foEKiglJRqqn"
      },
      "execution_count": 7,
      "outputs": []
    },
    {
      "cell_type": "code",
      "source": [
        "df.Embarked.fillna(df.Embarked.mode()[0], inplace=True)"
      ],
      "metadata": {
        "id": "9rJJ9B_HRqtv"
      },
      "execution_count": 8,
      "outputs": []
    },
    {
      "cell_type": "code",
      "source": [
        "plt.figure(figsize=(6,3))\n",
        "sns.distplot(df.Age)\n",
        "plt.axvline(df.Age.mean(), color='red')\n",
        "plt.axvline(df.Age.median(), color='yellow')\n",
        "plt.show()"
      ],
      "metadata": {
        "colab": {
          "base_uri": "https://localhost:8080/",
          "height": 311
        },
        "id": "aiS5jfcvRqw4",
        "outputId": "8c9797e1-b1c2-465d-dea1-725d4488f1f7"
      },
      "execution_count": 9,
      "outputs": [
        {
          "output_type": "display_data",
          "data": {
            "text/plain": [
              "<Figure size 600x300 with 1 Axes>"
            ],
            "image/png": "[encoded data removed]"
          },
          "metadata": {}
        }
      ]
    },
    {
      "cell_type": "code",
      "source": [
        "df.Age.fillna(df.Age.mean(), inplace=True)"
      ],
      "metadata": {
        "id": "2wUX6so4RqzN"
      },
      "execution_count": 10,
      "outputs": []
    },
    {
      "cell_type": "code",
      "source": [
        "df['FamilySize'] = df.SibSp + df['Parch'] + 1"
      ],
      "metadata": {
        "id": "BnkAL7k4RpM3"
      },
      "execution_count": 11,
      "outputs": []
    },
    {
      "cell_type": "code",
      "source": [
        "df['GenderClass'] = df.apply(\n",
        "    lambda x: 'child' if x['Age'] < 15 else x['Sex'], axis=1)"
      ],
      "metadata": {
        "id": "J7PtUjxAR1zY"
      },
      "execution_count": 12,
      "outputs": []
    },
    {
      "cell_type": "code",
      "source": [
        "df.drop(['PassengerId','Name','Ticket'], axis=1, inplace=True)"
      ],
      "metadata": {
        "id": "LEYBy5NbR12P"
      },
      "execution_count": 13,
      "outputs": []
    },
    {
      "cell_type": "code",
      "source": [
        "df.drop(['Sex','SibSp','Parch'], axis=1, inplace=True)"
      ],
      "metadata": {
        "id": "lx13fJTSR15o"
      },
      "execution_count": 14,
      "outputs": []
    },
    {
      "cell_type": "code",
      "source": [
        "df = pd.get_dummies(df, columns=['Embarked', 'GenderClass'], drop_first=True)\n",
        "\n",
        "# https://stackoverflow.com/questions/50176096/removing-redundant-columns-when-using-get-dummies"
      ],
      "metadata": {
        "id": "1Ss8S2XkR18f"
      },
      "execution_count": 15,
      "outputs": []
    },
    {
      "cell_type": "code",
      "source": [
        "X = df.loc[:,df.columns!='Survived']"
      ],
      "metadata": {
        "id": "jRaCuz-ER1_Y"
      },
      "execution_count": 16,
      "outputs": []
    },
    {
      "cell_type": "code",
      "source": [
        "y = df.Survived"
      ],
      "metadata": {
        "id": "-IoM61DdR2B-"
      },
      "execution_count": 17,
      "outputs": []
    },
    {
      "cell_type": "code",
      "source": [
        "from sklearn.model_selection import train_test_split\n",
        "X_train, X_test, y_train, y_test = train_test_split(\n",
        "    X, y, test_size=0.20, random_state=1)"
      ],
      "metadata": {
        "id": "juN3ety4SDFY"
      },
      "execution_count": 18,
      "outputs": []
    },
    {
      "cell_type": "code",
      "source": [
        "from sklearn.tree import DecisionTreeClassifier\n",
        "model = DecisionTreeClassifier(random_state=0)\n",
        "model.fit(X_train, y_train)"
      ],
      "metadata": {
        "colab": {
          "base_uri": "https://localhost:8080/",
          "height": 74
        },
        "id": "W8cCznybSDIh",
        "outputId": "a570212b-ddce-4f74-9320-73c4989cae0f"
      },
      "execution_count": 19,
      "outputs": [
        {
          "output_type": "execute_result",
          "data": {
            "text/plain": [
              "DecisionTreeClassifier(random_state=0)"
            ],
            "text/html": [
              "<style>#sk-container-id-1 {color: black;background-color: white;}#sk-container-id-1 pre{padding: 0;}#sk-container-id-1 div.sk-toggleable {background-color: white;}#sk-container-id-1 label.sk-toggleable__label {cursor: pointer;display: block;width: 100%;margin-bottom: 0;padding: 0.3em;box-sizing: border-box;text-align: center;}#sk-container-id-1 label.sk-toggleable__label-arrow:before {content: \"▸\";float: left;margin-right: 0.25em;color: #696969;}#sk-container-id-1 label.sk-toggleable__label-arrow:hover:before {color: black;}#sk-container-id-1 div.sk-estimator:hover label.sk-toggleable__label-arrow:before {color: black;}#sk-container-id-1 div.sk-toggleable__content {max-height: 0;max-width: 0;overflow: hidden;text-align: left;background-color: #f0f8ff;}#sk-container-id-1 div.sk-toggleable__content pre {margin: 0.2em;color: black;border-radius: 0.25em;background-color: #f0f8ff;}#sk-container-id-1 input.sk-toggleable__control:checked~div.sk-toggleable__content {max-height: 200px;max-width: 100%;overflow: auto;}#sk-container-id-1 input.sk-toggleable__control:checked~label.sk-toggleable__label-arrow:before {content: \"▾\";}#sk-container-id-1 div.sk-estimator input.sk-toggleable__control:checked~label.sk-toggleable__label {background-color: #d4ebff;}#sk-container-id-1 div.sk-label input.sk-toggleable__control:checked~label.sk-toggleable__label {background-color: #d4ebff;}#sk-container-id-1 input.sk-hidden--visually {border: 0;clip: rect(1px 1px 1px 1px);clip: rect(1px, 1px, 1px, 1px);height: 1px;margin: -1px;overflow: hidden;padding: 0;position: absolute;width: 1px;}#sk-container-id-1 div.sk-estimator {font-family: monospace;background-color: #f0f8ff;border: 1px dotted black;border-radius: 0.25em;box-sizing: border-box;margin-bottom: 0.5em;}#sk-container-id-1 div.sk-estimator:hover {background-color: #d4ebff;}#sk-container-id-1 div.sk-parallel-item::after {content: \"\";width: 100%;border-bottom: 1px solid gray;flex-grow: 1;}#sk-container-id-1 div.sk-label:hover label.sk-toggleable__label {background-color: #d4ebff;}#sk-container-id-1 div.sk-serial::before {content: \"\";position: absolute;border-left: 1px solid gray;box-sizing: border-box;top: 0;bottom: 0;left: 50%;z-index: 0;}#sk-container-id-1 div.sk-serial {display: flex;flex-direction: column;align-items: center;background-color: white;padding-right: 0.2em;padding-left: 0.2em;position: relative;}#sk-container-id-1 div.sk-item {position: relative;z-index: 1;}#sk-container-id-1 div.sk-parallel {display: flex;align-items: stretch;justify-content: center;background-color: white;position: relative;}#sk-container-id-1 div.sk-item::before, #sk-container-id-1 div.sk-parallel-item::before {content: \"\";position: absolute;border-left: 1px solid gray;box-sizing: border-box;top: 0;bottom: 0;left: 50%;z-index: -1;}#sk-container-id-1 div.sk-parallel-item {display: flex;flex-direction: column;z-index: 1;position: relative;background-color: white;}#sk-container-id-1 div.sk-parallel-item:first-child::after {align-self: flex-end;width: 50%;}#sk-container-id-1 div.sk-parallel-item:last-child::after {align-self: flex-start;width: 50%;}#sk-container-id-1 div.sk-parallel-item:only-child::after {width: 0;}#sk-container-id-1 div.sk-dashed-wrapped {border: 1px dashed gray;margin: 0 0.4em 0.5em 0.4em;box-sizing: border-box;padding-bottom: 0.4em;background-color: white;}#sk-container-id-1 div.sk-label label {font-family: monospace;font-weight: bold;display: inline-block;line-height: 1.2em;}#sk-container-id-1 div.sk-label-container {text-align: center;}#sk-container-id-1 div.sk-container {/* jupyter's `normalize.less` sets `[hidden] { display: none; }` but bootstrap.min.css set `[hidden] { display: none !important; }` so we also need the `!important` here to be able to override the default hidden behavior on the sphinx rendered scikit-learn.org. See: https://github.com/scikit-learn/scikit-learn/issues/21755 */display: inline-block !important;position: relative;}#sk-container-id-1 div.sk-text-repr-fallback {display: none;}</style><div id=\"sk-container-id-1\" class=\"sk-top-container\"><div class=\"sk-text-repr-fallback\"><pre>DecisionTreeClassifier(random_state=0)</pre><b>In a Jupyter environment, please rerun this cell to show the HTML representation or trust the notebook. <br />On GitHub, the HTML representation is unable to render, please try loading this page with nbviewer.org.</b></div><div class=\"sk-container\" hidden><div class=\"sk-item\"><div class=\"sk-estimator sk-toggleable\"><input class=\"sk-toggleable__control sk-hidden--visually\" id=\"sk-estimator-id-1\" type=\"checkbox\" checked><label for=\"sk-estimator-id-1\" class=\"sk-toggleable__label sk-toggleable__label-arrow\">DecisionTreeClassifier</label><div class=\"sk-toggleable__content\"><pre>DecisionTreeClassifier(random_state=0)</pre></div></div></div></div></div>"
            ]
          },
          "metadata": {},
          "execution_count": 19
        }
      ]
    },
    {
      "cell_type": "code",
      "source": [
        "y_pred_train = model.predict(X_train)\n",
        "y_pred_test = model.predict(X_test)"
      ],
      "metadata": {
        "id": "HU6dcMu5SDL4"
      },
      "execution_count": 20,
      "outputs": []
    },
    {
      "cell_type": "code",
      "source": [
        "from sklearn.metrics import accuracy_score\n",
        "# Train and Testing Accuracy\n",
        "accuracy_score(y_train, y_pred_train), accuracy_score(y_test, y_pred_test)"
      ],
      "metadata": {
        "colab": {
          "base_uri": "https://localhost:8080/"
        },
        "id": "-wMH2vmzSDPA",
        "outputId": "3bf8b650-0eba-478c-9123-db2867d25cc4"
      },
      "execution_count": 21,
      "outputs": [
        {
          "output_type": "execute_result",
          "data": {
            "text/plain": [
              "(0.9873595505617978, 0.776536312849162)"
            ]
          },
          "metadata": {},
          "execution_count": 21
        }
      ]
    },
    {
      "cell_type": "code",
      "execution_count": 22,
      "metadata": {
        "ExecuteTime": {
          "end_time": "2023-07-07T11:58:30.740685Z",
          "start_time": "2023-07-07T11:58:30.484973Z"
        },
        "_cell_guid": "b1076dfc-b9ad-4769-8c92-a6c4dae69d19",
        "_uuid": "8f2839f25d086af736a60e9eeb907d3b93b6e0e5",
        "id": "zVr1HfPIOKpf"
      },
      "outputs": [],
      "source": [
        "# Load packages\n",
        "import time\n",
        "from scipy.stats import uniform\n",
        "import numpy as np\n",
        "import pandas as pd\n",
        "import matplotlib.pyplot as plt\n",
        "import seaborn as sns\n",
        "\n",
        "from sklearn.model_selection import train_test_split, cross_val_score\n",
        "from sklearn.ensemble import GradientBoostingClassifier\n",
        "from sklearn.metrics import make_scorer, accuracy_score\n",
        "\n",
        "from hyperopt import hp, fmin, tpe\n",
        "from sklearn.model_selection import GridSearchCV, RandomizedSearchCV\n",
        "from bayes_opt import BayesianOptimization\n",
        "\n",
        "import warnings\n",
        "warnings.filterwarnings('ignore')\n",
        "pd.set_option(\"display.max_columns\", None)"
      ]
    },
    {
      "cell_type": "code",
      "execution_count": 23,
      "metadata": {
        "id": "Z693TkiyOKpf"
      },
      "outputs": [],
      "source": [
        "# Make scorer: accuracy\n",
        "acc_score = make_scorer(accuracy_score)"
      ]
    },
    {
      "cell_type": "code",
      "execution_count": 24,
      "metadata": {
        "colab": {
          "base_uri": "https://localhost:8080/",
          "height": 117
        },
        "id": "1IeEGcWSOKpg",
        "outputId": "6f639ead-5ec7-4e13-8087-0890f363b4d8"
      },
      "outputs": [
        {
          "output_type": "execute_result",
          "data": {
            "text/plain": [
              "GridSearchCV(cv=5, estimator=GradientBoostingClassifier(),\n",
              "             param_grid={'learning_rate': [0.01, 0.1, 1],\n",
              "                         'max_depth': [3, 4, 5, 6],\n",
              "                         'max_features': [0.8, 0.9, 1],\n",
              "                         'n_estimators': [80, 100],\n",
              "                         'subsample': [0.8, 0.9, 1]},\n",
              "             scoring=make_scorer(accuracy_score))"
            ],
            "text/html": [
              "<style>#sk-container-id-2 {color: black;background-color: white;}#sk-container-id-2 pre{padding: 0;}#sk-container-id-2 div.sk-toggleable {background-color: white;}#sk-container-id-2 label.sk-toggleable__label {cursor: pointer;display: block;width: 100%;margin-bottom: 0;padding: 0.3em;box-sizing: border-box;text-align: center;}#sk-container-id-2 label.sk-toggleable__label-arrow:before {content: \"▸\";float: left;margin-right: 0.25em;color: #696969;}#sk-container-id-2 label.sk-toggleable__label-arrow:hover:before {color: black;}#sk-container-id-2 div.sk-estimator:hover label.sk-toggleable__label-arrow:before {color: black;}#sk-container-id-2 div.sk-toggleable__content {max-height: 0;max-width: 0;overflow: hidden;text-align: left;background-color: #f0f8ff;}#sk-container-id-2 div.sk-toggleable__content pre {margin: 0.2em;color: black;border-radius: 0.25em;background-color: #f0f8ff;}#sk-container-id-2 input.sk-toggleable__control:checked~div.sk-toggleable__content {max-height: 200px;max-width: 100%;overflow: auto;}#sk-container-id-2 input.sk-toggleable__control:checked~label.sk-toggleable__label-arrow:before {content: \"▾\";}#sk-container-id-2 div.sk-estimator input.sk-toggleable__control:checked~label.sk-toggleable__label {background-color: #d4ebff;}#sk-container-id-2 div.sk-label input.sk-toggleable__control:checked~label.sk-toggleable__label {background-color: #d4ebff;}#sk-container-id-2 input.sk-hidden--visually {border: 0;clip: rect(1px 1px 1px 1px);clip: rect(1px, 1px, 1px, 1px);height: 1px;margin: -1px;overflow: hidden;padding: 0;position: absolute;width: 1px;}#sk-container-id-2 div.sk-estimator {font-family: monospace;background-color: #f0f8ff;border: 1px dotted black;border-radius: 0.25em;box-sizing: border-box;margin-bottom: 0.5em;}#sk-container-id-2 div.sk-estimator:hover {background-color: #d4ebff;}#sk-container-id-2 div.sk-parallel-item::after {content: \"\";width: 100%;border-bottom: 1px solid gray;flex-grow: 1;}#sk-container-id-2 div.sk-label:hover label.sk-toggleable__label {background-color: #d4ebff;}#sk-container-id-2 div.sk-serial::before {content: \"\";position: absolute;border-left: 1px solid gray;box-sizing: border-box;top: 0;bottom: 0;left: 50%;z-index: 0;}#sk-container-id-2 div.sk-serial {display: flex;flex-direction: column;align-items: center;background-color: white;padding-right: 0.2em;padding-left: 0.2em;position: relative;}#sk-container-id-2 div.sk-item {position: relative;z-index: 1;}#sk-container-id-2 div.sk-parallel {display: flex;align-items: stretch;justify-content: center;background-color: white;position: relative;}#sk-container-id-2 div.sk-item::before, #sk-container-id-2 div.sk-parallel-item::before {content: \"\";position: absolute;border-left: 1px solid gray;box-sizing: border-box;top: 0;bottom: 0;left: 50%;z-index: -1;}#sk-container-id-2 div.sk-parallel-item {display: flex;flex-direction: column;z-index: 1;position: relative;background-color: white;}#sk-container-id-2 div.sk-parallel-item:first-child::after {align-self: flex-end;width: 50%;}#sk-container-id-2 div.sk-parallel-item:last-child::after {align-self: flex-start;width: 50%;}#sk-container-id-2 div.sk-parallel-item:only-child::after {width: 0;}#sk-container-id-2 div.sk-dashed-wrapped {border: 1px dashed gray;margin: 0 0.4em 0.5em 0.4em;box-sizing: border-box;padding-bottom: 0.4em;background-color: white;}#sk-container-id-2 div.sk-label label {font-family: monospace;font-weight: bold;display: inline-block;line-height: 1.2em;}#sk-container-id-2 div.sk-label-container {text-align: center;}#sk-container-id-2 div.sk-container {/* jupyter's `normalize.less` sets `[hidden] { display: none; }` but bootstrap.min.css set `[hidden] { display: none !important; }` so we also need the `!important` here to be able to override the default hidden behavior on the sphinx rendered scikit-learn.org. See: https://github.com/scikit-learn/scikit-learn/issues/21755 */display: inline-block !important;position: relative;}#sk-container-id-2 div.sk-text-repr-fallback {display: none;}</style><div id=\"sk-container-id-2\" class=\"sk-top-container\"><div class=\"sk-text-repr-fallback\"><pre>GridSearchCV(cv=5, estimator=GradientBoostingClassifier(),\n",
              "             param_grid={&#x27;learning_rate&#x27;: [0.01, 0.1, 1],\n",
              "                         &#x27;max_depth&#x27;: [3, 4, 5, 6],\n",
              "                         &#x27;max_features&#x27;: [0.8, 0.9, 1],\n",
              "                         &#x27;n_estimators&#x27;: [80, 100],\n",
              "                         &#x27;subsample&#x27;: [0.8, 0.9, 1]},\n",
              "             scoring=make_scorer(accuracy_score))</pre><b>In a Jupyter environment, please rerun this cell to show the HTML representation or trust the notebook. <br />On GitHub, the HTML representation is unable to render, please try loading this page with nbviewer.org.</b></div><div class=\"sk-container\" hidden><div class=\"sk-item sk-dashed-wrapped\"><div class=\"sk-label-container\"><div class=\"sk-label sk-toggleable\"><input class=\"sk-toggleable__control sk-hidden--visually\" id=\"sk-estimator-id-2\" type=\"checkbox\" ><label for=\"sk-estimator-id-2\" class=\"sk-toggleable__label sk-toggleable__label-arrow\">GridSearchCV</label><div class=\"sk-toggleable__content\"><pre>GridSearchCV(cv=5, estimator=GradientBoostingClassifier(),\n",
              "             param_grid={&#x27;learning_rate&#x27;: [0.01, 0.1, 1],\n",
              "                         &#x27;max_depth&#x27;: [3, 4, 5, 6],\n",
              "                         &#x27;max_features&#x27;: [0.8, 0.9, 1],\n",
              "                         &#x27;n_estimators&#x27;: [80, 100],\n",
              "                         &#x27;subsample&#x27;: [0.8, 0.9, 1]},\n",
              "             scoring=make_scorer(accuracy_score))</pre></div></div></div><div class=\"sk-parallel\"><div class=\"sk-parallel-item\"><div class=\"sk-item\"><div class=\"sk-label-container\"><div class=\"sk-label sk-toggleable\"><input class=\"sk-toggleable__control sk-hidden--visually\" id=\"sk-estimator-id-3\" type=\"checkbox\" ><label for=\"sk-estimator-id-3\" class=\"sk-toggleable__label sk-toggleable__label-arrow\">estimator: GradientBoostingClassifier</label><div class=\"sk-toggleable__content\"><pre>GradientBoostingClassifier()</pre></div></div></div><div class=\"sk-serial\"><div class=\"sk-item\"><div class=\"sk-estimator sk-toggleable\"><input class=\"sk-toggleable__control sk-hidden--visually\" id=\"sk-estimator-id-4\" type=\"checkbox\" ><label for=\"sk-estimator-id-4\" class=\"sk-toggleable__label sk-toggleable__label-arrow\">GradientBoostingClassifier</label><div class=\"sk-toggleable__content\"><pre>GradientBoostingClassifier()</pre></div></div></div></div></div></div></div></div></div></div>"
            ]
          },
          "metadata": {},
          "execution_count": 24
        }
      ],
      "source": [
        "# GridSearchCV\n",
        "# param_grid = {'max_depth':[3,4,5,6,7,8,9,10],\n",
        "#               'max_features':[0.8,0.9,1],\n",
        "#               'learning_rate':[0.01,0.1,1],\n",
        "#               'n_estimators':[80,100,120,140,150],\n",
        "#               'subsample': [0.8,0.9,1]}\n",
        "\n",
        "param_grid = {'max_depth':[3,4,5,6],\n",
        "              'max_features':[0.8,0.9,1],\n",
        "              'learning_rate':[0.01,0.1,1],\n",
        "              'n_estimators':[80,100],\n",
        "              'subsample': [0.8,0.9,1]}\n",
        "\n",
        "grid = GridSearchCV(estimator=GradientBoostingClassifier(), param_grid=param_grid, scoring=acc_score, cv=5)\n",
        "\n",
        "grid.fit(X_train, y_train)"
      ]
    },
    {
      "cell_type": "code",
      "execution_count": 25,
      "metadata": {
        "colab": {
          "base_uri": "https://localhost:8080/",
          "height": 117
        },
        "id": "4P439gBtOKph",
        "outputId": "ed4b67ba-28ab-4377-b013-cdfdf0fd8772"
      },
      "outputs": [
        {
          "output_type": "execute_result",
          "data": {
            "text/plain": [
              "RandomizedSearchCV(cv=5, estimator=GradientBoostingClassifier(),\n",
              "                   param_distributions={'learning_rate': [0.01, 0.1, 1],\n",
              "                                        'max_depth': [3, 4, 5, 6],\n",
              "                                        'max_features': [0.8, 0.9, 1],\n",
              "                                        'n_estimators': [80, 100],\n",
              "                                        'subsample': [0.8, 0.9, 1]},\n",
              "                   scoring=make_scorer(accuracy_score))"
            ],
            "text/html": [
              "<style>#sk-container-id-3 {color: black;background-color: white;}#sk-container-id-3 pre{padding: 0;}#sk-container-id-3 div.sk-toggleable {background-color: white;}#sk-container-id-3 label.sk-toggleable__label {cursor: pointer;display: block;width: 100%;margin-bottom: 0;padding: 0.3em;box-sizing: border-box;text-align: center;}#sk-container-id-3 label.sk-toggleable__label-arrow:before {content: \"▸\";float: left;margin-right: 0.25em;color: #696969;}#sk-container-id-3 label.sk-toggleable__label-arrow:hover:before {color: black;}#sk-container-id-3 div.sk-estimator:hover label.sk-toggleable__label-arrow:before {color: black;}#sk-container-id-3 div.sk-toggleable__content {max-height: 0;max-width: 0;overflow: hidden;text-align: left;background-color: #f0f8ff;}#sk-container-id-3 div.sk-toggleable__content pre {margin: 0.2em;color: black;border-radius: 0.25em;background-color: #f0f8ff;}#sk-container-id-3 input.sk-toggleable__control:checked~div.sk-toggleable__content {max-height: 200px;max-width: 100%;overflow: auto;}#sk-container-id-3 input.sk-toggleable__control:checked~label.sk-toggleable__label-arrow:before {content: \"▾\";}#sk-container-id-3 div.sk-estimator input.sk-toggleable__control:checked~label.sk-toggleable__label {background-color: #d4ebff;}#sk-container-id-3 div.sk-label input.sk-toggleable__control:checked~label.sk-toggleable__label {background-color: #d4ebff;}#sk-container-id-3 input.sk-hidden--visually {border: 0;clip: rect(1px 1px 1px 1px);clip: rect(1px, 1px, 1px, 1px);height: 1px;margin: -1px;overflow: hidden;padding: 0;position: absolute;width: 1px;}#sk-container-id-3 div.sk-estimator {font-family: monospace;background-color: #f0f8ff;border: 1px dotted black;border-radius: 0.25em;box-sizing: border-box;margin-bottom: 0.5em;}#sk-container-id-3 div.sk-estimator:hover {background-color: #d4ebff;}#sk-container-id-3 div.sk-parallel-item::after {content: \"\";width: 100%;border-bottom: 1px solid gray;flex-grow: 1;}#sk-container-id-3 div.sk-label:hover label.sk-toggleable__label {background-color: #d4ebff;}#sk-container-id-3 div.sk-serial::before {content: \"\";position: absolute;border-left: 1px solid gray;box-sizing: border-box;top: 0;bottom: 0;left: 50%;z-index: 0;}#sk-container-id-3 div.sk-serial {display: flex;flex-direction: column;align-items: center;background-color: white;padding-right: 0.2em;padding-left: 0.2em;position: relative;}#sk-container-id-3 div.sk-item {position: relative;z-index: 1;}#sk-container-id-3 div.sk-parallel {display: flex;align-items: stretch;justify-content: center;background-color: white;position: relative;}#sk-container-id-3 div.sk-item::before, #sk-container-id-3 div.sk-parallel-item::before {content: \"\";position: absolute;border-left: 1px solid gray;box-sizing: border-box;top: 0;bottom: 0;left: 50%;z-index: -1;}#sk-container-id-3 div.sk-parallel-item {display: flex;flex-direction: column;z-index: 1;position: relative;background-color: white;}#sk-container-id-3 div.sk-parallel-item:first-child::after {align-self: flex-end;width: 50%;}#sk-container-id-3 div.sk-parallel-item:last-child::after {align-self: flex-start;width: 50%;}#sk-container-id-3 div.sk-parallel-item:only-child::after {width: 0;}#sk-container-id-3 div.sk-dashed-wrapped {border: 1px dashed gray;margin: 0 0.4em 0.5em 0.4em;box-sizing: border-box;padding-bottom: 0.4em;background-color: white;}#sk-container-id-3 div.sk-label label {font-family: monospace;font-weight: bold;display: inline-block;line-height: 1.2em;}#sk-container-id-3 div.sk-label-container {text-align: center;}#sk-container-id-3 div.sk-container {/* jupyter's `normalize.less` sets `[hidden] { display: none; }` but bootstrap.min.css set `[hidden] { display: none !important; }` so we also need the `!important` here to be able to override the default hidden behavior on the sphinx rendered scikit-learn.org. See: https://github.com/scikit-learn/scikit-learn/issues/21755 */display: inline-block !important;position: relative;}#sk-container-id-3 div.sk-text-repr-fallback {display: none;}</style><div id=\"sk-container-id-3\" class=\"sk-top-container\"><div class=\"sk-text-repr-fallback\"><pre>RandomizedSearchCV(cv=5, estimator=GradientBoostingClassifier(),\n",
              "                   param_distributions={&#x27;learning_rate&#x27;: [0.01, 0.1, 1],\n",
              "                                        &#x27;max_depth&#x27;: [3, 4, 5, 6],\n",
              "                                        &#x27;max_features&#x27;: [0.8, 0.9, 1],\n",
              "                                        &#x27;n_estimators&#x27;: [80, 100],\n",
              "                                        &#x27;subsample&#x27;: [0.8, 0.9, 1]},\n",
              "                   scoring=make_scorer(accuracy_score))</pre><b>In a Jupyter environment, please rerun this cell to show the HTML representation or trust the notebook. <br />On GitHub, the HTML representation is unable to render, please try loading this page with nbviewer.org.</b></div><div class=\"sk-container\" hidden><div class=\"sk-item sk-dashed-wrapped\"><div class=\"sk-label-container\"><div class=\"sk-label sk-toggleable\"><input class=\"sk-toggleable__control sk-hidden--visually\" id=\"sk-estimator-id-5\" type=\"checkbox\" ><label for=\"sk-estimator-id-5\" class=\"sk-toggleable__label sk-toggleable__label-arrow\">RandomizedSearchCV</label><div class=\"sk-toggleable__content\"><pre>RandomizedSearchCV(cv=5, estimator=GradientBoostingClassifier(),\n",
              "                   param_distributions={&#x27;learning_rate&#x27;: [0.01, 0.1, 1],\n",
              "                                        &#x27;max_depth&#x27;: [3, 4, 5, 6],\n",
              "                                        &#x27;max_features&#x27;: [0.8, 0.9, 1],\n",
              "                                        &#x27;n_estimators&#x27;: [80, 100],\n",
              "                                        &#x27;subsample&#x27;: [0.8, 0.9, 1]},\n",
              "                   scoring=make_scorer(accuracy_score))</pre></div></div></div><div class=\"sk-parallel\"><div class=\"sk-parallel-item\"><div class=\"sk-item\"><div class=\"sk-label-container\"><div class=\"sk-label sk-toggleable\"><input class=\"sk-toggleable__control sk-hidden--visually\" id=\"sk-estimator-id-6\" type=\"checkbox\" ><label for=\"sk-estimator-id-6\" class=\"sk-toggleable__label sk-toggleable__label-arrow\">estimator: GradientBoostingClassifier</label><div class=\"sk-toggleable__content\"><pre>GradientBoostingClassifier()</pre></div></div></div><div class=\"sk-serial\"><div class=\"sk-item\"><div class=\"sk-estimator sk-toggleable\"><input class=\"sk-toggleable__control sk-hidden--visually\" id=\"sk-estimator-id-7\" type=\"checkbox\" ><label for=\"sk-estimator-id-7\" class=\"sk-toggleable__label sk-toggleable__label-arrow\">GradientBoostingClassifier</label><div class=\"sk-toggleable__content\"><pre>GradientBoostingClassifier()</pre></div></div></div></div></div></div></div></div></div></div>"
            ]
          },
          "metadata": {},
          "execution_count": 25
        }
      ],
      "source": [
        "# RandomizedSearhCV\n",
        "# param_rand = {'max_depth':[3,4,5,6,7,8,9,10],\n",
        "#               'max_features':[0.8,0.9,1],\n",
        "#               'learning_rate':[0.01,0.1,1],\n",
        "#               'n_estimators':[80,100,120,140,150],\n",
        "#               'subsample': [0.8,0.9,1]}\n",
        "\n",
        "param_rand = {'max_depth':[3,4,5,6],\n",
        "              'max_features':[0.8,0.9,1],\n",
        "              'learning_rate':[0.01,0.1,1],\n",
        "              'n_estimators':[80,100],\n",
        "              'subsample': [0.8,0.9,1]}\n",
        "\n",
        "# param_rand = {'max_depth':[3,4,5,],\n",
        "#               'max_features':[0.8,0.9,1],\n",
        "#               }\n",
        "\n",
        "rand = RandomizedSearchCV(estimator=GradientBoostingClassifier(), param_distributions=param_rand, scoring=acc_score, cv=5)\n",
        "\n",
        "rand.fit(X_train, y_train)"
      ]
    },
    {
      "cell_type": "code",
      "execution_count": 26,
      "metadata": {
        "id": "R4MQ_c0XOKph",
        "colab": {
          "base_uri": "https://localhost:8080/",
          "height": 117
        },
        "outputId": "f6d8189b-a7c1-426f-fc83-30bc179677a6"
      },
      "outputs": [
        {
          "output_type": "execute_result",
          "data": {
            "text/plain": [
              "RandomizedSearchCV(cv=5, estimator=GradientBoostingClassifier(),\n",
              "                   param_distributions={'learning_rate': [0.01, 0.1, 1],\n",
              "                                        'max_depth': [3, 4, 5, 6],\n",
              "                                        'max_features': [0.8, 0.9, 1],\n",
              "                                        'n_estimators': [80, 100],\n",
              "                                        'subsample': [0.8, 0.9, 1]},\n",
              "                   scoring=make_scorer(accuracy_score))"
            ],
            "text/html": [
              "<style>#sk-container-id-4 {color: black;background-color: white;}#sk-container-id-4 pre{padding: 0;}#sk-container-id-4 div.sk-toggleable {background-color: white;}#sk-container-id-4 label.sk-toggleable__label {cursor: pointer;display: block;width: 100%;margin-bottom: 0;padding: 0.3em;box-sizing: border-box;text-align: center;}#sk-container-id-4 label.sk-toggleable__label-arrow:before {content: \"▸\";float: left;margin-right: 0.25em;color: #696969;}#sk-container-id-4 label.sk-toggleable__label-arrow:hover:before {color: black;}#sk-container-id-4 div.sk-estimator:hover label.sk-toggleable__label-arrow:before {color: black;}#sk-container-id-4 div.sk-toggleable__content {max-height: 0;max-width: 0;overflow: hidden;text-align: left;background-color: #f0f8ff;}#sk-container-id-4 div.sk-toggleable__content pre {margin: 0.2em;color: black;border-radius: 0.25em;background-color: #f0f8ff;}#sk-container-id-4 input.sk-toggleable__control:checked~div.sk-toggleable__content {max-height: 200px;max-width: 100%;overflow: auto;}#sk-container-id-4 input.sk-toggleable__control:checked~label.sk-toggleable__label-arrow:before {content: \"▾\";}#sk-container-id-4 div.sk-estimator input.sk-toggleable__control:checked~label.sk-toggleable__label {background-color: #d4ebff;}#sk-container-id-4 div.sk-label input.sk-toggleable__control:checked~label.sk-toggleable__label {background-color: #d4ebff;}#sk-container-id-4 input.sk-hidden--visually {border: 0;clip: rect(1px 1px 1px 1px);clip: rect(1px, 1px, 1px, 1px);height: 1px;margin: -1px;overflow: hidden;padding: 0;position: absolute;width: 1px;}#sk-container-id-4 div.sk-estimator {font-family: monospace;background-color: #f0f8ff;border: 1px dotted black;border-radius: 0.25em;box-sizing: border-box;margin-bottom: 0.5em;}#sk-container-id-4 div.sk-estimator:hover {background-color: #d4ebff;}#sk-container-id-4 div.sk-parallel-item::after {content: \"\";width: 100%;border-bottom: 1px solid gray;flex-grow: 1;}#sk-container-id-4 div.sk-label:hover label.sk-toggleable__label {background-color: #d4ebff;}#sk-container-id-4 div.sk-serial::before {content: \"\";position: absolute;border-left: 1px solid gray;box-sizing: border-box;top: 0;bottom: 0;left: 50%;z-index: 0;}#sk-container-id-4 div.sk-serial {display: flex;flex-direction: column;align-items: center;background-color: white;padding-right: 0.2em;padding-left: 0.2em;position: relative;}#sk-container-id-4 div.sk-item {position: relative;z-index: 1;}#sk-container-id-4 div.sk-parallel {display: flex;align-items: stretch;justify-content: center;background-color: white;position: relative;}#sk-container-id-4 div.sk-item::before, #sk-container-id-4 div.sk-parallel-item::before {content: \"\";position: absolute;border-left: 1px solid gray;box-sizing: border-box;top: 0;bottom: 0;left: 50%;z-index: -1;}#sk-container-id-4 div.sk-parallel-item {display: flex;flex-direction: column;z-index: 1;position: relative;background-color: white;}#sk-container-id-4 div.sk-parallel-item:first-child::after {align-self: flex-end;width: 50%;}#sk-container-id-4 div.sk-parallel-item:last-child::after {align-self: flex-start;width: 50%;}#sk-container-id-4 div.sk-parallel-item:only-child::after {width: 0;}#sk-container-id-4 div.sk-dashed-wrapped {border: 1px dashed gray;margin: 0 0.4em 0.5em 0.4em;box-sizing: border-box;padding-bottom: 0.4em;background-color: white;}#sk-container-id-4 div.sk-label label {font-family: monospace;font-weight: bold;display: inline-block;line-height: 1.2em;}#sk-container-id-4 div.sk-label-container {text-align: center;}#sk-container-id-4 div.sk-container {/* jupyter's `normalize.less` sets `[hidden] { display: none; }` but bootstrap.min.css set `[hidden] { display: none !important; }` so we also need the `!important` here to be able to override the default hidden behavior on the sphinx rendered scikit-learn.org. See: https://github.com/scikit-learn/scikit-learn/issues/21755 */display: inline-block !important;position: relative;}#sk-container-id-4 div.sk-text-repr-fallback {display: none;}</style><div id=\"sk-container-id-4\" class=\"sk-top-container\"><div class=\"sk-text-repr-fallback\"><pre>RandomizedSearchCV(cv=5, estimator=GradientBoostingClassifier(),\n",
              "                   param_distributions={&#x27;learning_rate&#x27;: [0.01, 0.1, 1],\n",
              "                                        &#x27;max_depth&#x27;: [3, 4, 5, 6],\n",
              "                                        &#x27;max_features&#x27;: [0.8, 0.9, 1],\n",
              "                                        &#x27;n_estimators&#x27;: [80, 100],\n",
              "                                        &#x27;subsample&#x27;: [0.8, 0.9, 1]},\n",
              "                   scoring=make_scorer(accuracy_score))</pre><b>In a Jupyter environment, please rerun this cell to show the HTML representation or trust the notebook. <br />On GitHub, the HTML representation is unable to render, please try loading this page with nbviewer.org.</b></div><div class=\"sk-container\" hidden><div class=\"sk-item sk-dashed-wrapped\"><div class=\"sk-label-container\"><div class=\"sk-label sk-toggleable\"><input class=\"sk-toggleable__control sk-hidden--visually\" id=\"sk-estimator-id-8\" type=\"checkbox\" ><label for=\"sk-estimator-id-8\" class=\"sk-toggleable__label sk-toggleable__label-arrow\">RandomizedSearchCV</label><div class=\"sk-toggleable__content\"><pre>RandomizedSearchCV(cv=5, estimator=GradientBoostingClassifier(),\n",
              "                   param_distributions={&#x27;learning_rate&#x27;: [0.01, 0.1, 1],\n",
              "                                        &#x27;max_depth&#x27;: [3, 4, 5, 6],\n",
              "                                        &#x27;max_features&#x27;: [0.8, 0.9, 1],\n",
              "                                        &#x27;n_estimators&#x27;: [80, 100],\n",
              "                                        &#x27;subsample&#x27;: [0.8, 0.9, 1]},\n",
              "                   scoring=make_scorer(accuracy_score))</pre></div></div></div><div class=\"sk-parallel\"><div class=\"sk-parallel-item\"><div class=\"sk-item\"><div class=\"sk-label-container\"><div class=\"sk-label sk-toggleable\"><input class=\"sk-toggleable__control sk-hidden--visually\" id=\"sk-estimator-id-9\" type=\"checkbox\" ><label for=\"sk-estimator-id-9\" class=\"sk-toggleable__label sk-toggleable__label-arrow\">estimator: GradientBoostingClassifier</label><div class=\"sk-toggleable__content\"><pre>GradientBoostingClassifier()</pre></div></div></div><div class=\"sk-serial\"><div class=\"sk-item\"><div class=\"sk-estimator sk-toggleable\"><input class=\"sk-toggleable__control sk-hidden--visually\" id=\"sk-estimator-id-10\" type=\"checkbox\" ><label for=\"sk-estimator-id-10\" class=\"sk-toggleable__label sk-toggleable__label-arrow\">GradientBoostingClassifier</label><div class=\"sk-toggleable__content\"><pre>GradientBoostingClassifier()</pre></div></div></div></div></div></div></div></div></div></div>"
            ]
          },
          "metadata": {},
          "execution_count": 26
        }
      ],
      "source": [
        "# RandomizedSearhCV\n",
        "# param_rand = {'max_depth':[3,4,5,6,7,8,9,10],\n",
        "#               'max_features':[0.8,0.9,1],\n",
        "#               'learning_rate':[0.01,0.1,1],\n",
        "#               'n_estimators':[80,100,120,140,150],\n",
        "#               'subsample': [0.8,0.9,1]}\n",
        "\n",
        "param_rand = {'max_depth':[3,4,5,6],\n",
        "              'max_features':[0.8,0.9,1],\n",
        "              'learning_rate':[0.01,0.1,1],\n",
        "              'n_estimators':[80,100],\n",
        "              'subsample': [0.8,0.9,1]}\n",
        "\n",
        "# param_rand = {'max_depth':[3,4,5,],\n",
        "#               'max_features':[0.8,0.9,1],\n",
        "#               }\n",
        "\n",
        "rand = RandomizedSearchCV(estimator=GradientBoostingClassifier(), param_distributions=param_rand, scoring=acc_score, cv=5)\n",
        "\n",
        "rand.fit(X_train, y_train)"
      ]
    },
    {
      "cell_type": "markdown",
      "metadata": {
        "id": "rLGshBZDOKpi"
      },
      "source": [
        "# Bayes_opt"
      ]
    },
    {
      "cell_type": "code",
      "execution_count": 27,
      "metadata": {
        "id": "NdhFxpFAOKpj"
      },
      "outputs": [],
      "source": [
        "# Gradient Boosting Machine\n",
        "def gbm_cl_bo(max_depth, max_features, learning_rate, n_estimators, subsample):\n",
        "    params_gbm = {}\n",
        "\n",
        "    params_gbm['max_depth'] = round(max_depth)\n",
        "    params_gbm['max_features'] = max_features\n",
        "    params_gbm['learning_rate'] = learning_rate\n",
        "    params_gbm['n_estimators'] = round(n_estimators)\n",
        "    params_gbm['subsample'] = subsample\n",
        "\n",
        "    scores = cross_val_score(GradientBoostingClassifier(random_state=123, **params_gbm),\n",
        "                             X_train, y_train, scoring=acc_score, cv=5).mean()\n",
        "\n",
        "    score = scores.mean()\n",
        "    return score"
      ]
    },
    {
      "cell_type": "code",
      "execution_count": 28,
      "metadata": {
        "id": "4rt_RUv5OKpj",
        "colab": {
          "base_uri": "https://localhost:8080/"
        },
        "outputId": "c8320bd5-5844-40c3-a4ad-73af63ba552a"
      },
      "outputs": [
        {
          "output_type": "stream",
          "name": "stdout",
          "text": [
            "|   iter    |  target   | learni... | max_depth | max_fe... | n_esti... | subsample |\n",
            "-------------------------------------------------------------------------------------\n",
            "| \u001b[0m1        \u001b[0m | \u001b[0m0.802    \u001b[0m | \u001b[0m0.616    \u001b[0m | \u001b[0m4.183    \u001b[0m | \u001b[0m0.8872   \u001b[0m | \u001b[0m133.8    \u001b[0m | \u001b[0m0.8591   \u001b[0m |\n",
            "| \u001b[95m2        \u001b[0m | \u001b[95m0.8161   \u001b[0m | \u001b[95m0.1577   \u001b[0m | \u001b[95m3.157    \u001b[0m | \u001b[95m0.884    \u001b[0m | \u001b[95m96.71    \u001b[0m | \u001b[95m0.8675   \u001b[0m |\n",
            "| \u001b[0m3        \u001b[0m | \u001b[0m0.6488   \u001b[0m | \u001b[0m0.9908   \u001b[0m | \u001b[0m4.664    \u001b[0m | \u001b[0m0.8162   \u001b[0m | \u001b[0m126.9    \u001b[0m | \u001b[0m0.9242   \u001b[0m |\n",
            "| \u001b[0m4        \u001b[0m | \u001b[0m0.802    \u001b[0m | \u001b[0m0.2815   \u001b[0m | \u001b[0m6.264    \u001b[0m | \u001b[0m0.8237   \u001b[0m | \u001b[0m85.18    \u001b[0m | \u001b[0m0.9802   \u001b[0m |\n",
            "| \u001b[0m5        \u001b[0m | \u001b[0m0.7866   \u001b[0m | \u001b[0m0.796    \u001b[0m | \u001b[0m8.884    \u001b[0m | \u001b[0m0.963    \u001b[0m | \u001b[0m149.4    \u001b[0m | \u001b[0m0.9155   \u001b[0m |\n",
            "| \u001b[0m6        \u001b[0m | \u001b[0m0.5434   \u001b[0m | \u001b[0m0.8156   \u001b[0m | \u001b[0m5.949    \u001b[0m | \u001b[0m0.8055   \u001b[0m | \u001b[0m111.8    \u001b[0m | \u001b[0m0.8211   \u001b[0m |\n",
            "| \u001b[0m7        \u001b[0m | \u001b[0m0.8006   \u001b[0m | \u001b[0m0.819    \u001b[0m | \u001b[0m7.884    \u001b[0m | \u001b[0m0.9131   \u001b[0m | \u001b[0m99.2     \u001b[0m | \u001b[0m0.9997   \u001b[0m |\n",
            "| \u001b[0m8        \u001b[0m | \u001b[0m0.8161   \u001b[0m | \u001b[0m0.1467   \u001b[0m | \u001b[0m7.308    \u001b[0m | \u001b[0m0.897    \u001b[0m | \u001b[0m108.4    \u001b[0m | \u001b[0m0.9456   \u001b[0m |\n",
            "| \u001b[0m9        \u001b[0m | \u001b[0m0.8021   \u001b[0m | \u001b[0m0.3296   \u001b[0m | \u001b[0m5.804    \u001b[0m | \u001b[0m0.8638   \u001b[0m | \u001b[0m146.3    \u001b[0m | \u001b[0m0.9837   \u001b[0m |\n",
            "| \u001b[0m10       \u001b[0m | \u001b[0m0.788    \u001b[0m | \u001b[0m0.8157   \u001b[0m | \u001b[0m3.239    \u001b[0m | \u001b[0m0.9887   \u001b[0m | \u001b[0m146.5    \u001b[0m | \u001b[0m0.9613   \u001b[0m |\n",
            "| \u001b[0m11       \u001b[0m | \u001b[0m0.8007   \u001b[0m | \u001b[0m0.4865   \u001b[0m | \u001b[0m9.767    \u001b[0m | \u001b[0m0.8834   \u001b[0m | \u001b[0m102.3    \u001b[0m | \u001b[0m0.8033   \u001b[0m |\n",
            "| \u001b[95m12       \u001b[0m | \u001b[95m0.8329   \u001b[0m | \u001b[95m0.0478   \u001b[0m | \u001b[95m3.372    \u001b[0m | \u001b[95m0.8256   \u001b[0m | \u001b[95m82.34    \u001b[0m | \u001b[95m0.8453   \u001b[0m |\n",
            "| \u001b[0m13       \u001b[0m | \u001b[0m0.809    \u001b[0m | \u001b[0m0.5485   \u001b[0m | \u001b[0m4.25     \u001b[0m | \u001b[0m0.8359   \u001b[0m | \u001b[0m90.47    \u001b[0m | \u001b[0m0.9366   \u001b[0m |\n",
            "| \u001b[0m14       \u001b[0m | \u001b[0m0.8076   \u001b[0m | \u001b[0m0.4743   \u001b[0m | \u001b[0m8.378    \u001b[0m | \u001b[0m0.9338   \u001b[0m | \u001b[0m110.9    \u001b[0m | \u001b[0m0.919    \u001b[0m |\n",
            "| \u001b[0m15       \u001b[0m | \u001b[0m0.7993   \u001b[0m | \u001b[0m0.467    \u001b[0m | \u001b[0m9.743    \u001b[0m | \u001b[0m0.8296   \u001b[0m | \u001b[0m143.5    \u001b[0m | \u001b[0m0.8996   \u001b[0m |\n",
            "| \u001b[0m16       \u001b[0m | \u001b[0m0.8048   \u001b[0m | \u001b[0m0.5966   \u001b[0m | \u001b[0m7.793    \u001b[0m | \u001b[0m0.8355   \u001b[0m | \u001b[0m140.5    \u001b[0m | \u001b[0m0.8964   \u001b[0m |\n",
            "| \u001b[0m17       \u001b[0m | \u001b[0m0.8091   \u001b[0m | \u001b[0m0.07865  \u001b[0m | \u001b[0m5.553    \u001b[0m | \u001b[0m0.8723   \u001b[0m | \u001b[0m113.0    \u001b[0m | \u001b[0m0.8359   \u001b[0m |\n",
            "| \u001b[0m18       \u001b[0m | \u001b[0m0.802    \u001b[0m | \u001b[0m0.1835   \u001b[0m | \u001b[0m9.644    \u001b[0m | \u001b[0m0.9311   \u001b[0m | \u001b[0m89.45    \u001b[0m | \u001b[0m0.9856   \u001b[0m |\n",
            "| \u001b[0m19       \u001b[0m | \u001b[0m0.7936   \u001b[0m | \u001b[0m0.8434   \u001b[0m | \u001b[0m3.369    \u001b[0m | \u001b[0m0.8407   \u001b[0m | \u001b[0m141.1    \u001b[0m | \u001b[0m0.9348   \u001b[0m |\n",
            "| \u001b[0m20       \u001b[0m | \u001b[0m0.8006   \u001b[0m | \u001b[0m0.3043   \u001b[0m | \u001b[0m8.141    \u001b[0m | \u001b[0m0.9237   \u001b[0m | \u001b[0m94.73    \u001b[0m | \u001b[0m0.9604   \u001b[0m |\n",
            "| \u001b[0m21       \u001b[0m | \u001b[0m0.6154   \u001b[0m | \u001b[0m0.6524   \u001b[0m | \u001b[0m7.793    \u001b[0m | \u001b[0m0.875    \u001b[0m | \u001b[0m140.6    \u001b[0m | \u001b[0m0.8255   \u001b[0m |\n",
            "| \u001b[95m22       \u001b[0m | \u001b[95m0.8399   \u001b[0m | \u001b[95m0.05919  \u001b[0m | \u001b[95m4.285    \u001b[0m | \u001b[95m0.8093   \u001b[0m | \u001b[95m92.7     \u001b[0m | \u001b[95m0.9528   \u001b[0m |\n",
            "| \u001b[0m23       \u001b[0m | \u001b[0m0.7951   \u001b[0m | \u001b[0m0.6978   \u001b[0m | \u001b[0m5.89     \u001b[0m | \u001b[0m0.8082   \u001b[0m | \u001b[0m147.9    \u001b[0m | \u001b[0m0.987    \u001b[0m |\n",
            "| \u001b[0m24       \u001b[0m | \u001b[0m0.6502   \u001b[0m | \u001b[0m0.721    \u001b[0m | \u001b[0m5.683    \u001b[0m | \u001b[0m0.8289   \u001b[0m | \u001b[0m128.5    \u001b[0m | \u001b[0m0.9406   \u001b[0m |\n",
            "=====================================================================================\n",
            "It takes 0.6505837440490723 minutes\n"
          ]
        }
      ],
      "source": [
        "# Run Bayesian Optimization\n",
        "start = time.time()\n",
        "\n",
        "params_gbm ={\n",
        "    'max_depth':(3, 10),\n",
        "    'max_features':(0.8, 1),\n",
        "    'learning_rate':(0.01, 1),\n",
        "    'n_estimators':(80, 150),\n",
        "    'subsample': (0.8, 1)\n",
        "}\n",
        "\n",
        "gbm_bo = BayesianOptimization(gbm_cl_bo, params_gbm, random_state=111)\n",
        "gbm_bo.maximize(init_points=20, n_iter=4)\n",
        "\n",
        "print('It takes %s minutes' % ((time.time() - start)/60))"
      ]
    },
    {
      "cell_type": "code",
      "execution_count": 29,
      "metadata": {
        "id": "2w4rE4rzOKpk",
        "colab": {
          "base_uri": "https://localhost:8080/"
        },
        "outputId": "b8cf3ac7-e8a7-458f-e1a5-a316d1f4b716"
      },
      "outputs": [
        {
          "output_type": "execute_result",
          "data": {
            "text/plain": [
              "{'learning_rate': 0.059194670474463015,\n",
              " 'max_depth': 4,\n",
              " 'max_features': 0.8093174365608405,\n",
              " 'n_estimators': 93,\n",
              " 'subsample': 0.9528240486176215}"
            ]
          },
          "metadata": {},
          "execution_count": 29
        }
      ],
      "source": [
        "params_gbm = gbm_bo.max['params']\n",
        "\n",
        "params_gbm['max_depth'] = round(params_gbm['max_depth'])\n",
        "params_gbm['n_estimators'] = round(params_gbm['n_estimators'])\n",
        "\n",
        "params_gbm"
      ]
    },
    {
      "cell_type": "markdown",
      "metadata": {
        "id": "qpTUZvDeOKpk"
      },
      "source": [
        "# hyperopt"
      ]
    },
    {
      "cell_type": "code",
      "execution_count": 30,
      "metadata": {
        "id": "kSZyAUySOKpk",
        "colab": {
          "base_uri": "https://localhost:8080/"
        },
        "outputId": "5de9581d-5969-4324-884b-fc8dbb8b0fe2"
      },
      "outputs": [
        {
          "output_type": "stream",
          "name": "stdout",
          "text": [
            "100%|██████████| 24/24 [00:37<00:00,  1.55s/trial, best loss: 0.16282872057519948]\n",
            "It takes 0.6184117118517558 minutes\n"
          ]
        }
      ],
      "source": [
        "# Run Bayesian Optimization from hyperopt\n",
        "start = time.time()\n",
        "\n",
        "space_lr = {'max_depth': hp.randint('max_depth', 3, 10),\n",
        "            'max_features': hp.uniform('max_features', 0.8, 1),\n",
        "            'learning_rate': hp.uniform('learning_rate',0.01, 1),\n",
        "            'n_estimators': hp.randint('n_estimators', 80,150),\n",
        "            'subsample': hp.uniform('subsample',0.8, 1)}\n",
        "\n",
        "def gbm_cl_bo2(params):\n",
        "    params = {'max_depth': params['max_depth'],\n",
        "              'max_features': params['max_features'],\n",
        "              'learning_rate': params['learning_rate'],\n",
        "              'n_estimators': params['n_estimators'],\n",
        "              'subsample': params['subsample']}\n",
        "\n",
        "    gbm_bo2 = GradientBoostingClassifier(random_state=111, **params)\n",
        "\n",
        "    best_score = cross_val_score(gbm_bo2, X_train, y_train, scoring=acc_score, cv=5).mean()\n",
        "\n",
        "    return 1 - best_score\n",
        "\n",
        "gbm_best_param = fmin(fn=gbm_cl_bo2,\n",
        "                space=space_lr,\n",
        "                max_evals=24,\n",
        "                rstate=np.random.default_rng(seed=42),\n",
        "                algo=tpe.suggest)\n",
        "\n",
        "print('It takes %s minutes' % ((time.time() - start)/60))"
      ]
    },
    {
      "cell_type": "code",
      "execution_count": 31,
      "metadata": {
        "id": "tPrsv5qVOKpk",
        "colab": {
          "base_uri": "https://localhost:8080/"
        },
        "outputId": "bceb8e00-4c7f-4880-f70f-9b5d79584254"
      },
      "outputs": [
        {
          "output_type": "execute_result",
          "data": {
            "text/plain": [
              "{'learning_rate': 0.04465323630276792,\n",
              " 'max_depth': 5,\n",
              " 'max_features': 0.9283237612451108,\n",
              " 'n_estimators': 100,\n",
              " 'subsample': 0.9965958950126605}"
            ]
          },
          "metadata": {},
          "execution_count": 31
        }
      ],
      "source": [
        "gbm_best_param"
      ]
    },
    {
      "cell_type": "markdown",
      "source": [
        "# Happy Learning"
      ],
      "metadata": {
        "id": "_z172I41_1BH"
      }
    }
  ],
  "metadata": {
    "kernelspec": {
      "display_name": "Python 3",
      "name": "python3"
    },
    "language_info": {
      "codemirror_mode": {
        "name": "ipython",
        "version": 3
      },
      "file_extension": ".py",
      "mimetype": "text/x-python",
      "name": "python",
      "nbconvert_exporter": "python",
      "pygments_lexer": "ipython3",
      "version": "3.9.13"
    },
    "varInspector": {
      "cols": {
        "lenName": 16,
        "lenType": 16,
        "lenVar": 40
      },
      "kernels_config": {
        "python": {
          "delete_cmd_postfix": "",
          "delete_cmd_prefix": "del ",
          "library": "var_list.py",
          "varRefreshCmd": "print(var_dic_list())"
        },
        "r": {
          "delete_cmd_postfix": ") ",
          "delete_cmd_prefix": "rm(",
          "library": "var_list.r",
          "varRefreshCmd": "cat(var_dic_list()) "
        }
      },
      "types_to_exclude": [
        "module",
        "function",
        "builtin_function_or_method",
        "instance",
        "_Feature"
      ],
      "window_display": false
    },
    "colab": {
      "provenance": [],
      "gpuType": "T4"
    },
    "accelerator": "GPU"
  },
  "nbformat": 4,
  "nbformat_minor": 0
}