{
 "cells": [
  {
   "cell_type": "code",
   "execution_count": 4,
   "id": "1ed96258",
   "metadata": {
    "ExecuteTime": {
     "end_time": "2023-08-25T14:10:21.105419Z",
     "start_time": "2023-08-25T14:10:21.101801Z"
    }
   },
   "outputs": [
    {
     "name": "stdout",
     "output_type": "stream",
     "text": [
      "[10, 20, 30, 40, 50]\n",
      "10\n",
      "['Darshan', 20, 30, 40, 50]\n",
      "Darshan\n"
     ]
    }
   ],
   "source": [
    "l = [10, 20, 30, 40, 50]\n",
    "print(l)\n",
    "print(l[0])\n",
    "l[0] = \"Darshan\"\n",
    "print(l)\n",
    "print(l[0])\n",
    "# List are Mutable in nature i.e. flexible"
   ]
  },
  {
   "cell_type": "code",
   "execution_count": 5,
   "id": "3e443c15",
   "metadata": {
    "ExecuteTime": {
     "end_time": "2023-08-25T14:11:00.946077Z",
     "start_time": "2023-08-25T14:11:00.696985Z"
    }
   },
   "outputs": [
    {
     "name": "stdout",
     "output_type": "stream",
     "text": [
      "(10, 20, 30, 40, 50)\n",
      "10\n"
     ]
    },
    {
     "ename": "TypeError",
     "evalue": "'tuple' object does not support item assignment",
     "output_type": "error",
     "traceback": [
      "\u001b[0;31m---------------------------------------------------------------------------\u001b[0m",
      "\u001b[0;31mTypeError\u001b[0m                                 Traceback (most recent call last)",
      "Cell \u001b[0;32mIn[5], line 4\u001b[0m\n\u001b[1;32m      2\u001b[0m \u001b[38;5;28mprint\u001b[39m(l)\n\u001b[1;32m      3\u001b[0m \u001b[38;5;28mprint\u001b[39m(l[\u001b[38;5;241m0\u001b[39m])\n\u001b[0;32m----> 4\u001b[0m l[\u001b[38;5;241m0\u001b[39m] \u001b[38;5;241m=\u001b[39m \u001b[38;5;124m\"\u001b[39m\u001b[38;5;124mDarshan\u001b[39m\u001b[38;5;124m\"\u001b[39m\n\u001b[1;32m      5\u001b[0m \u001b[38;5;28mprint\u001b[39m(l)\n\u001b[1;32m      6\u001b[0m \u001b[38;5;28mprint\u001b[39m(l[\u001b[38;5;241m0\u001b[39m])\n",
      "\u001b[0;31mTypeError\u001b[0m: 'tuple' object does not support item assignment"
     ]
    }
   ],
   "source": [
    "l = (10, 20, 30, 40, 50)\n",
    "print(l)\n",
    "print(l[0])\n",
    "l[0] = \"Darshan\"\n",
    "print(l)\n",
    "print(l[0])\n",
    "# Tuples are Immutable in nature i.e. rigid"
   ]
  },
  {
   "cell_type": "code",
   "execution_count": 11,
   "id": "d76fd1f9",
   "metadata": {
    "ExecuteTime": {
     "end_time": "2023-08-25T14:15:37.117773Z",
     "start_time": "2023-08-25T14:15:37.114366Z"
    }
   },
   "outputs": [
    {
     "name": "stdout",
     "output_type": "stream",
     "text": [
      "Darshan\n",
      "D\n",
      "arshan\n",
      "Yarshan\n",
      "Y\n"
     ]
    }
   ],
   "source": [
    "s = \"Darshan\"\n",
    "print(s)\n",
    "print(s[0])\n",
    "# s[0] = \"Y\"\n",
    "print(s[1:])\n",
    "s = \"Y\" + s[1:]\n",
    "print(s)\n",
    "print(s[0])"
   ]
  },
  {
   "cell_type": "markdown",
   "id": "f9da94f9",
   "metadata": {},
   "source": [
    "# Happy Learning"
   ]
  }
 ],
 "metadata": {
  "kernelspec": {
   "display_name": "Python 3 (ipykernel)",
   "language": "python",
   "name": "python3"
  },
  "language_info": {
   "codemirror_mode": {
    "name": "ipython",
    "version": 3
   },
   "file_extension": ".py",
   "mimetype": "text/x-python",
   "name": "python",
   "nbconvert_exporter": "python",
   "pygments_lexer": "ipython3",
   "version": "3.11.3"
  },
  "varInspector": {
   "cols": {
    "lenName": 16,
    "lenType": 16,
    "lenVar": 40
   },
   "kernels_config": {
    "python": {
     "delete_cmd_postfix": "",
     "delete_cmd_prefix": "del ",
     "library": "var_list.py",
     "varRefreshCmd": "print(var_dic_list())"
    },
    "r": {
     "delete_cmd_postfix": ") ",
     "delete_cmd_prefix": "rm(",
     "library": "var_list.r",
     "varRefreshCmd": "cat(var_dic_list()) "
    }
   },
   "types_to_exclude": [
    "module",
    "function",
    "builtin_function_or_method",
    "instance",
    "_Feature"
   ],
   "window_display": false
  }
 },
 "nbformat": 4,
 "nbformat_minor": 5
}
