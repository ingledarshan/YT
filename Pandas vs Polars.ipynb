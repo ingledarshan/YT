{
 "cells": [
  {
   "cell_type": "markdown",
   "id": "ebeed2a2",
   "metadata": {},
   "source": [
    "# Polars\n",
    "\n",
    "__https://pola-rs.github.io/polars-book/user-guide/__\n",
    "\n",
    ">The goal is to introduce Polars by comparing it to other solutions.\n",
    "\n",
    ">Polars is completely written in Rust (no runtime overhead!) which gives it C/C++ performance and allows it to fully control performance critical parts in a query engine.\n",
    "\n",
    "## The goal of Polars is to provide a lightning fast DataFrame library that:\n",
    "\n",
    ">Utilizes all available cores on your machine.\n",
    "\n",
    ">Optimizes queries to reduce unneeded work/memory allocations.\n",
    "\n",
    ">Handles datasets much larger than your available RAM.\n",
    "\n",
    ">Has an API that is consistent and predictable.\n",
    "\n",
    ">Has a strict schema (data-types should be known before running the query).\n",
    "\n"
   ]
  },
  {
   "cell_type": "markdown",
   "id": "d9f31efc",
   "metadata": {},
   "source": [
    "## Installation:\n",
    "\n",
    "pip install polars\n",
    "\n",
    "OR\n",
    "\n",
    "https://anaconda.org/conda-forge/polars\n",
    "\n",
    "conda install -c conda-forge polars\n"
   ]
  },
  {
   "cell_type": "code",
   "execution_count": 1,
   "id": "ac9b288e",
   "metadata": {
    "ExecuteTime": {
     "end_time": "2023-06-22T13:50:09.460518Z",
     "start_time": "2023-06-22T13:50:09.371202Z"
    }
   },
   "outputs": [],
   "source": [
    "import polars as pl"
   ]
  },
  {
   "cell_type": "code",
   "execution_count": 2,
   "id": "efd5bfc8",
   "metadata": {
    "ExecuteTime": {
     "end_time": "2023-06-22T13:50:19.731999Z",
     "start_time": "2023-06-22T13:50:19.719876Z"
    }
   },
   "outputs": [
    {
     "name": "stdout",
     "output_type": "stream",
     "text": [
      "shape: (5,)\n",
      "Series: 'a' [i64]\n",
      "[\n",
      "\t1\n",
      "\t2\n",
      "\t3\n",
      "\t4\n",
      "\t5\n",
      "]\n"
     ]
    }
   ],
   "source": [
    "s = pl.Series(\"a\", [1, 2, 3, 4, 5])\n",
    "print(s)"
   ]
  },
  {
   "cell_type": "code",
   "execution_count": 3,
   "id": "b025d9d8",
   "metadata": {
    "ExecuteTime": {
     "end_time": "2023-06-22T13:50:30.181175Z",
     "start_time": "2023-06-22T13:50:30.153684Z"
    }
   },
   "outputs": [
    {
     "name": "stdout",
     "output_type": "stream",
     "text": [
      "shape: (5, 3)\n",
      "┌─────────┬─────────────────────┬───────┐\n",
      "│ integer ┆ date                ┆ float │\n",
      "│ ---     ┆ ---                 ┆ ---   │\n",
      "│ i64     ┆ datetime[μs]        ┆ f64   │\n",
      "╞═════════╪═════════════════════╪═══════╡\n",
      "│ 1       ┆ 2022-01-01 00:00:00 ┆ 4.0   │\n",
      "│ 2       ┆ 2022-01-02 00:00:00 ┆ 5.0   │\n",
      "│ 3       ┆ 2022-01-03 00:00:00 ┆ 6.0   │\n",
      "│ 4       ┆ 2022-01-04 00:00:00 ┆ 7.0   │\n",
      "│ 5       ┆ 2022-01-05 00:00:00 ┆ 8.0   │\n",
      "└─────────┴─────────────────────┴───────┘\n"
     ]
    }
   ],
   "source": [
    "from datetime import datetime\n",
    "df = pl.DataFrame(\n",
    "    {\n",
    "        \"integer\": [1, 2, 3, 4, 5],\n",
    "        \"date\": [\n",
    "            datetime(2022, 1, 1),\n",
    "            datetime(2022, 1, 2),\n",
    "            datetime(2022, 1, 3),\n",
    "            datetime(2022, 1, 4),\n",
    "            datetime(2022, 1, 5),\n",
    "        ],\n",
    "        \"float\": [4.0, 5.0, 6.0, 7.0, 8.0],\n",
    "    }\n",
    ")\n",
    "\n",
    "print(df)"
   ]
  },
  {
   "cell_type": "code",
   "execution_count": 4,
   "id": "75ffde0d",
   "metadata": {
    "ExecuteTime": {
     "end_time": "2023-06-22T13:51:03.684522Z",
     "start_time": "2023-06-22T13:51:03.674254Z"
    }
   },
   "outputs": [
    {
     "data": {
      "text/html": [
       "<div><style>\n",
       ".dataframe > thead > tr > th,\n",
       ".dataframe > tbody > tr > td {\n",
       "  text-align: right;\n",
       "}\n",
       "</style>\n",
       "<small>shape: (3, 3)</small><table border=\"1\" class=\"dataframe\"><thead><tr><th>integer</th><th>date</th><th>float</th></tr><tr><td>i64</td><td>datetime[μs]</td><td>f64</td></tr></thead><tbody><tr><td>1</td><td>2022-01-01 00:00:00</td><td>4.0</td></tr><tr><td>2</td><td>2022-01-02 00:00:00</td><td>5.0</td></tr><tr><td>3</td><td>2022-01-03 00:00:00</td><td>6.0</td></tr></tbody></table></div>"
      ],
      "text/plain": [
       "shape: (3, 3)\n",
       "┌─────────┬─────────────────────┬───────┐\n",
       "│ integer ┆ date                ┆ float │\n",
       "│ ---     ┆ ---                 ┆ ---   │\n",
       "│ i64     ┆ datetime[μs]        ┆ f64   │\n",
       "╞═════════╪═════════════════════╪═══════╡\n",
       "│ 1       ┆ 2022-01-01 00:00:00 ┆ 4.0   │\n",
       "│ 2       ┆ 2022-01-02 00:00:00 ┆ 5.0   │\n",
       "│ 3       ┆ 2022-01-03 00:00:00 ┆ 6.0   │\n",
       "└─────────┴─────────────────────┴───────┘"
      ]
     },
     "execution_count": 4,
     "metadata": {},
     "output_type": "execute_result"
    }
   ],
   "source": [
    "df.head(3)"
   ]
  },
  {
   "cell_type": "code",
   "execution_count": 5,
   "id": "123d1cee",
   "metadata": {
    "ExecuteTime": {
     "end_time": "2023-06-22T13:51:08.813679Z",
     "start_time": "2023-06-22T13:51:08.806947Z"
    }
   },
   "outputs": [
    {
     "data": {
      "text/html": [
       "<div><style>\n",
       ".dataframe > thead > tr > th,\n",
       ".dataframe > tbody > tr > td {\n",
       "  text-align: right;\n",
       "}\n",
       "</style>\n",
       "<small>shape: (3, 3)</small><table border=\"1\" class=\"dataframe\"><thead><tr><th>integer</th><th>date</th><th>float</th></tr><tr><td>i64</td><td>datetime[μs]</td><td>f64</td></tr></thead><tbody><tr><td>3</td><td>2022-01-03 00:00:00</td><td>6.0</td></tr><tr><td>4</td><td>2022-01-04 00:00:00</td><td>7.0</td></tr><tr><td>5</td><td>2022-01-05 00:00:00</td><td>8.0</td></tr></tbody></table></div>"
      ],
      "text/plain": [
       "shape: (3, 3)\n",
       "┌─────────┬─────────────────────┬───────┐\n",
       "│ integer ┆ date                ┆ float │\n",
       "│ ---     ┆ ---                 ┆ ---   │\n",
       "│ i64     ┆ datetime[μs]        ┆ f64   │\n",
       "╞═════════╪═════════════════════╪═══════╡\n",
       "│ 3       ┆ 2022-01-03 00:00:00 ┆ 6.0   │\n",
       "│ 4       ┆ 2022-01-04 00:00:00 ┆ 7.0   │\n",
       "│ 5       ┆ 2022-01-05 00:00:00 ┆ 8.0   │\n",
       "└─────────┴─────────────────────┴───────┘"
      ]
     },
     "execution_count": 5,
     "metadata": {},
     "output_type": "execute_result"
    }
   ],
   "source": [
    "df.tail(3)"
   ]
  },
  {
   "cell_type": "code",
   "execution_count": 6,
   "id": "80298c7e",
   "metadata": {
    "ExecuteTime": {
     "end_time": "2023-06-22T13:51:21.819426Z",
     "start_time": "2023-06-22T13:51:21.809900Z"
    }
   },
   "outputs": [
    {
     "data": {
      "text/html": [
       "<div><style>\n",
       ".dataframe > thead > tr > th,\n",
       ".dataframe > tbody > tr > td {\n",
       "  text-align: right;\n",
       "}\n",
       "</style>\n",
       "<small>shape: (2, 3)</small><table border=\"1\" class=\"dataframe\"><thead><tr><th>integer</th><th>date</th><th>float</th></tr><tr><td>i64</td><td>datetime[μs]</td><td>f64</td></tr></thead><tbody><tr><td>4</td><td>2022-01-04 00:00:00</td><td>7.0</td></tr><tr><td>3</td><td>2022-01-03 00:00:00</td><td>6.0</td></tr></tbody></table></div>"
      ],
      "text/plain": [
       "shape: (2, 3)\n",
       "┌─────────┬─────────────────────┬───────┐\n",
       "│ integer ┆ date                ┆ float │\n",
       "│ ---     ┆ ---                 ┆ ---   │\n",
       "│ i64     ┆ datetime[μs]        ┆ f64   │\n",
       "╞═════════╪═════════════════════╪═══════╡\n",
       "│ 4       ┆ 2022-01-04 00:00:00 ┆ 7.0   │\n",
       "│ 3       ┆ 2022-01-03 00:00:00 ┆ 6.0   │\n",
       "└─────────┴─────────────────────┴───────┘"
      ]
     },
     "execution_count": 6,
     "metadata": {},
     "output_type": "execute_result"
    }
   ],
   "source": [
    "df.sample(2)"
   ]
  },
  {
   "cell_type": "code",
   "execution_count": 7,
   "id": "730af35e",
   "metadata": {
    "ExecuteTime": {
     "end_time": "2023-06-22T13:51:25.234998Z",
     "start_time": "2023-06-22T13:51:25.216375Z"
    }
   },
   "outputs": [
    {
     "data": {
      "text/html": [
       "<div><style>\n",
       ".dataframe > thead > tr > th,\n",
       ".dataframe > tbody > tr > td {\n",
       "  text-align: right;\n",
       "}\n",
       "</style>\n",
       "<small>shape: (9, 4)</small><table border=\"1\" class=\"dataframe\"><thead><tr><th>describe</th><th>integer</th><th>date</th><th>float</th></tr><tr><td>str</td><td>f64</td><td>str</td><td>f64</td></tr></thead><tbody><tr><td>&quot;count&quot;</td><td>5.0</td><td>&quot;5&quot;</td><td>5.0</td></tr><tr><td>&quot;null_count&quot;</td><td>0.0</td><td>&quot;0&quot;</td><td>0.0</td></tr><tr><td>&quot;mean&quot;</td><td>3.0</td><td>null</td><td>6.0</td></tr><tr><td>&quot;std&quot;</td><td>1.581139</td><td>null</td><td>1.581139</td></tr><tr><td>&quot;min&quot;</td><td>1.0</td><td>&quot;2022-01-01 00:…</td><td>4.0</td></tr><tr><td>&quot;max&quot;</td><td>5.0</td><td>&quot;2022-01-05 00:…</td><td>8.0</td></tr><tr><td>&quot;median&quot;</td><td>3.0</td><td>null</td><td>6.0</td></tr><tr><td>&quot;25%&quot;</td><td>2.0</td><td>null</td><td>5.0</td></tr><tr><td>&quot;75%&quot;</td><td>4.0</td><td>null</td><td>7.0</td></tr></tbody></table></div>"
      ],
      "text/plain": [
       "shape: (9, 4)\n",
       "┌────────────┬──────────┬─────────────────────┬──────────┐\n",
       "│ describe   ┆ integer  ┆ date                ┆ float    │\n",
       "│ ---        ┆ ---      ┆ ---                 ┆ ---      │\n",
       "│ str        ┆ f64      ┆ str                 ┆ f64      │\n",
       "╞════════════╪══════════╪═════════════════════╪══════════╡\n",
       "│ count      ┆ 5.0      ┆ 5                   ┆ 5.0      │\n",
       "│ null_count ┆ 0.0      ┆ 0                   ┆ 0.0      │\n",
       "│ mean       ┆ 3.0      ┆ null                ┆ 6.0      │\n",
       "│ std        ┆ 1.581139 ┆ null                ┆ 1.581139 │\n",
       "│ min        ┆ 1.0      ┆ 2022-01-01 00:00:00 ┆ 4.0      │\n",
       "│ max        ┆ 5.0      ┆ 2022-01-05 00:00:00 ┆ 8.0      │\n",
       "│ median     ┆ 3.0      ┆ null                ┆ 6.0      │\n",
       "│ 25%        ┆ 2.0      ┆ null                ┆ 5.0      │\n",
       "│ 75%        ┆ 4.0      ┆ null                ┆ 7.0      │\n",
       "└────────────┴──────────┴─────────────────────┴──────────┘"
      ]
     },
     "execution_count": 7,
     "metadata": {},
     "output_type": "execute_result"
    }
   ],
   "source": [
    "df.describe()"
   ]
  },
  {
   "cell_type": "code",
   "execution_count": 8,
   "id": "bbb0114c",
   "metadata": {
    "ExecuteTime": {
     "end_time": "2023-06-22T13:51:55.599054Z",
     "start_time": "2023-06-22T13:51:55.594889Z"
    }
   },
   "outputs": [],
   "source": [
    "import numpy as np"
   ]
  },
  {
   "cell_type": "code",
   "execution_count": 9,
   "id": "1679600d",
   "metadata": {
    "ExecuteTime": {
     "end_time": "2023-06-22T13:51:56.124164Z",
     "start_time": "2023-06-22T13:51:56.111549Z"
    }
   },
   "outputs": [
    {
     "data": {
      "text/html": [
       "<div><style>\n",
       ".dataframe > thead > tr > th,\n",
       ".dataframe > tbody > tr > td {\n",
       "  text-align: right;\n",
       "}\n",
       "</style>\n",
       "<small>shape: (5, 4)</small><table border=\"1\" class=\"dataframe\"><thead><tr><th>nrs</th><th>names</th><th>random</th><th>groups</th></tr><tr><td>i64</td><td>str</td><td>f64</td><td>str</td></tr></thead><tbody><tr><td>1</td><td>&quot;foo&quot;</td><td>0.455021</td><td>&quot;A&quot;</td></tr><tr><td>2</td><td>&quot;ham&quot;</td><td>0.113997</td><td>&quot;A&quot;</td></tr><tr><td>3</td><td>&quot;spam&quot;</td><td>0.917982</td><td>&quot;B&quot;</td></tr><tr><td>null</td><td>&quot;egg&quot;</td><td>0.288977</td><td>&quot;C&quot;</td></tr><tr><td>5</td><td>null</td><td>0.877943</td><td>&quot;B&quot;</td></tr></tbody></table></div>"
      ],
      "text/plain": [
       "shape: (5, 4)\n",
       "┌──────┬───────┬──────────┬────────┐\n",
       "│ nrs  ┆ names ┆ random   ┆ groups │\n",
       "│ ---  ┆ ---   ┆ ---      ┆ ---    │\n",
       "│ i64  ┆ str   ┆ f64      ┆ str    │\n",
       "╞══════╪═══════╪══════════╪════════╡\n",
       "│ 1    ┆ foo   ┆ 0.455021 ┆ A      │\n",
       "│ 2    ┆ ham   ┆ 0.113997 ┆ A      │\n",
       "│ 3    ┆ spam  ┆ 0.917982 ┆ B      │\n",
       "│ null ┆ egg   ┆ 0.288977 ┆ C      │\n",
       "│ 5    ┆ null  ┆ 0.877943 ┆ B      │\n",
       "└──────┴───────┴──────────┴────────┘"
      ]
     },
     "execution_count": 9,
     "metadata": {},
     "output_type": "execute_result"
    }
   ],
   "source": [
    "df = pl.DataFrame(\n",
    "    {\n",
    "        \"nrs\": [1, 2, 3, None, 5],\n",
    "        \"names\": [\"foo\", \"ham\", \"spam\", \"egg\", None],\n",
    "        \"random\": np.random.rand(5),\n",
    "        \"groups\": [\"A\", \"A\", \"B\", \"C\", \"B\"],\n",
    "    }\n",
    ")\n",
    "df"
   ]
  },
  {
   "cell_type": "code",
   "execution_count": 11,
   "id": "de81f194",
   "metadata": {
    "ExecuteTime": {
     "end_time": "2023-06-22T13:52:27.443631Z",
     "start_time": "2023-06-22T13:52:27.429300Z"
    }
   },
   "outputs": [
    {
     "data": {
      "text/html": [
       "<div><style>\n",
       ".dataframe > thead > tr > th,\n",
       ".dataframe > tbody > tr > td {\n",
       "  text-align: right;\n",
       "}\n",
       "</style>\n",
       "<small>shape: (5, 4)</small><table border=\"1\" class=\"dataframe\"><thead><tr><th>nrs</th><th>names</th><th>first name</th><th>10xnrs</th></tr><tr><td>i64</td><td>str</td><td>str</td><td>f64</td></tr></thead><tbody><tr><td>11</td><td>null</td><td>&quot;foo&quot;</td><td>27.5</td></tr><tr><td>11</td><td>&quot;egg&quot;</td><td>&quot;foo&quot;</td><td>27.5</td></tr><tr><td>11</td><td>&quot;foo&quot;</td><td>&quot;foo&quot;</td><td>27.5</td></tr><tr><td>11</td><td>&quot;ham&quot;</td><td>&quot;foo&quot;</td><td>27.5</td></tr><tr><td>11</td><td>&quot;spam&quot;</td><td>&quot;foo&quot;</td><td>27.5</td></tr></tbody></table></div>"
      ],
      "text/plain": [
       "shape: (5, 4)\n",
       "┌─────┬───────┬────────────┬────────┐\n",
       "│ nrs ┆ names ┆ first name ┆ 10xnrs │\n",
       "│ --- ┆ ---   ┆ ---        ┆ ---    │\n",
       "│ i64 ┆ str   ┆ str        ┆ f64    │\n",
       "╞═════╪═══════╪════════════╪════════╡\n",
       "│ 11  ┆ null  ┆ foo        ┆ 27.5   │\n",
       "│ 11  ┆ egg   ┆ foo        ┆ 27.5   │\n",
       "│ 11  ┆ foo   ┆ foo        ┆ 27.5   │\n",
       "│ 11  ┆ ham   ┆ foo        ┆ 27.5   │\n",
       "│ 11  ┆ spam  ┆ foo        ┆ 27.5   │\n",
       "└─────┴───────┴────────────┴────────┘"
      ]
     },
     "execution_count": 11,
     "metadata": {},
     "output_type": "execute_result"
    }
   ],
   "source": [
    "out = df.select(\n",
    "    [\n",
    "        pl.sum(\"nrs\"),\n",
    "        pl.col(\"names\").sort(),\n",
    "        pl.col(\"names\").first().alias(\"first name\"),\n",
    "        (pl.mean(\"nrs\") * 10).alias(\"10xnrs\"),\n",
    "    ]\n",
    ")\n",
    "out"
   ]
  },
  {
   "cell_type": "code",
   "execution_count": 12,
   "id": "54dc6b7c",
   "metadata": {
    "ExecuteTime": {
     "end_time": "2023-06-22T13:53:48.203648Z",
     "start_time": "2023-06-22T13:53:48.192437Z"
    }
   },
   "outputs": [
    {
     "data": {
      "text/html": [
       "<div><style>\n",
       ".dataframe > thead > tr > th,\n",
       ".dataframe > tbody > tr > td {\n",
       "  text-align: right;\n",
       "}\n",
       "</style>\n",
       "<small>shape: (5, 6)</small><table border=\"1\" class=\"dataframe\"><thead><tr><th>nrs</th><th>names</th><th>random</th><th>groups</th><th>nrs_sum</th><th>count</th></tr><tr><td>i64</td><td>str</td><td>f64</td><td>str</td><td>i64</td><td>u32</td></tr></thead><tbody><tr><td>1</td><td>&quot;foo&quot;</td><td>0.455021</td><td>&quot;A&quot;</td><td>11</td><td>5</td></tr><tr><td>2</td><td>&quot;ham&quot;</td><td>0.113997</td><td>&quot;A&quot;</td><td>11</td><td>5</td></tr><tr><td>3</td><td>&quot;spam&quot;</td><td>0.917982</td><td>&quot;B&quot;</td><td>11</td><td>5</td></tr><tr><td>null</td><td>&quot;egg&quot;</td><td>0.288977</td><td>&quot;C&quot;</td><td>11</td><td>5</td></tr><tr><td>5</td><td>null</td><td>0.877943</td><td>&quot;B&quot;</td><td>11</td><td>5</td></tr></tbody></table></div>"
      ],
      "text/plain": [
       "shape: (5, 6)\n",
       "┌──────┬───────┬──────────┬────────┬─────────┬───────┐\n",
       "│ nrs  ┆ names ┆ random   ┆ groups ┆ nrs_sum ┆ count │\n",
       "│ ---  ┆ ---   ┆ ---      ┆ ---    ┆ ---     ┆ ---   │\n",
       "│ i64  ┆ str   ┆ f64      ┆ str    ┆ i64     ┆ u32   │\n",
       "╞══════╪═══════╪══════════╪════════╪═════════╪═══════╡\n",
       "│ 1    ┆ foo   ┆ 0.455021 ┆ A      ┆ 11      ┆ 5     │\n",
       "│ 2    ┆ ham   ┆ 0.113997 ┆ A      ┆ 11      ┆ 5     │\n",
       "│ 3    ┆ spam  ┆ 0.917982 ┆ B      ┆ 11      ┆ 5     │\n",
       "│ null ┆ egg   ┆ 0.288977 ┆ C      ┆ 11      ┆ 5     │\n",
       "│ 5    ┆ null  ┆ 0.877943 ┆ B      ┆ 11      ┆ 5     │\n",
       "└──────┴───────┴──────────┴────────┴─────────┴───────┘"
      ]
     },
     "execution_count": 12,
     "metadata": {},
     "output_type": "execute_result"
    }
   ],
   "source": [
    "df = df.with_columns(\n",
    "    [\n",
    "        pl.sum(\"nrs\").alias(\"nrs_sum\"),\n",
    "        pl.col(\"random\").count().alias(\"count\"),\n",
    "    ]\n",
    ")\n",
    "df"
   ]
  },
  {
   "cell_type": "code",
   "execution_count": 13,
   "id": "02b2b906",
   "metadata": {
    "ExecuteTime": {
     "end_time": "2023-06-22T13:54:10.015545Z",
     "start_time": "2023-06-22T13:54:10.007732Z"
    }
   },
   "outputs": [
    {
     "data": {
      "text/html": [
       "<div><style>\n",
       ".dataframe > thead > tr > th,\n",
       ".dataframe > tbody > tr > td {\n",
       "  text-align: right;\n",
       "}\n",
       "</style>\n",
       "<small>shape: (5, 6)</small><table border=\"1\" class=\"dataframe\"><thead><tr><th>nrs</th><th>names</th><th>random</th><th>groups</th><th>nrs_sum</th><th>count</th></tr><tr><td>i64</td><td>str</td><td>f64</td><td>str</td><td>i64</td><td>u32</td></tr></thead><tbody><tr><td>1</td><td>&quot;foo&quot;</td><td>0.455021</td><td>&quot;A&quot;</td><td>11</td><td>5</td></tr><tr><td>2</td><td>&quot;ham&quot;</td><td>0.113997</td><td>&quot;A&quot;</td><td>11</td><td>5</td></tr><tr><td>3</td><td>&quot;spam&quot;</td><td>0.917982</td><td>&quot;B&quot;</td><td>11</td><td>5</td></tr><tr><td>null</td><td>&quot;egg&quot;</td><td>0.288977</td><td>&quot;C&quot;</td><td>11</td><td>5</td></tr><tr><td>5</td><td>null</td><td>0.877943</td><td>&quot;B&quot;</td><td>11</td><td>5</td></tr></tbody></table></div>"
      ],
      "text/plain": [
       "shape: (5, 6)\n",
       "┌──────┬───────┬──────────┬────────┬─────────┬───────┐\n",
       "│ nrs  ┆ names ┆ random   ┆ groups ┆ nrs_sum ┆ count │\n",
       "│ ---  ┆ ---   ┆ ---      ┆ ---    ┆ ---     ┆ ---   │\n",
       "│ i64  ┆ str   ┆ f64      ┆ str    ┆ i64     ┆ u32   │\n",
       "╞══════╪═══════╪══════════╪════════╪═════════╪═══════╡\n",
       "│ 1    ┆ foo   ┆ 0.455021 ┆ A      ┆ 11      ┆ 5     │\n",
       "│ 2    ┆ ham   ┆ 0.113997 ┆ A      ┆ 11      ┆ 5     │\n",
       "│ 3    ┆ spam  ┆ 0.917982 ┆ B      ┆ 11      ┆ 5     │\n",
       "│ null ┆ egg   ┆ 0.288977 ┆ C      ┆ 11      ┆ 5     │\n",
       "│ 5    ┆ null  ┆ 0.877943 ┆ B      ┆ 11      ┆ 5     │\n",
       "└──────┴───────┴──────────┴────────┴─────────┴───────┘"
      ]
     },
     "execution_count": 13,
     "metadata": {},
     "output_type": "execute_result"
    }
   ],
   "source": [
    "df.head()"
   ]
  },
  {
   "cell_type": "code",
   "execution_count": 14,
   "id": "3f0644db",
   "metadata": {
    "ExecuteTime": {
     "end_time": "2023-06-22T13:54:28.605947Z",
     "start_time": "2023-06-22T13:54:28.593183Z"
    }
   },
   "outputs": [
    {
     "data": {
      "text/html": [
       "<div><style>\n",
       ".dataframe > thead > tr > th,\n",
       ".dataframe > tbody > tr > td {\n",
       "  text-align: right;\n",
       "}\n",
       "</style>\n",
       "<small>shape: (2, 6)</small><table border=\"1\" class=\"dataframe\"><thead><tr><th>nrs</th><th>names</th><th>random</th><th>groups</th><th>nrs_sum</th><th>count</th></tr><tr><td>i64</td><td>str</td><td>f64</td><td>str</td><td>i64</td><td>u32</td></tr></thead><tbody><tr><td>3</td><td>&quot;spam&quot;</td><td>0.917982</td><td>&quot;B&quot;</td><td>11</td><td>5</td></tr><tr><td>5</td><td>null</td><td>0.877943</td><td>&quot;B&quot;</td><td>11</td><td>5</td></tr></tbody></table></div>"
      ],
      "text/plain": [
       "shape: (2, 6)\n",
       "┌─────┬───────┬──────────┬────────┬─────────┬───────┐\n",
       "│ nrs ┆ names ┆ random   ┆ groups ┆ nrs_sum ┆ count │\n",
       "│ --- ┆ ---   ┆ ---      ┆ ---    ┆ ---     ┆ ---   │\n",
       "│ i64 ┆ str   ┆ f64      ┆ str    ┆ i64     ┆ u32   │\n",
       "╞═════╪═══════╪══════════╪════════╪═════════╪═══════╡\n",
       "│ 3   ┆ spam  ┆ 0.917982 ┆ B      ┆ 11      ┆ 5     │\n",
       "│ 5   ┆ null  ┆ 0.877943 ┆ B      ┆ 11      ┆ 5     │\n",
       "└─────┴───────┴──────────┴────────┴─────────┴───────┘"
      ]
     },
     "execution_count": 14,
     "metadata": {},
     "output_type": "execute_result"
    }
   ],
   "source": [
    "out = df.filter(pl.col(\"nrs\") > 2)\n",
    "out"
   ]
  },
  {
   "cell_type": "code",
   "execution_count": 15,
   "id": "9fb02c7e",
   "metadata": {
    "ExecuteTime": {
     "end_time": "2023-06-22T13:55:03.654159Z",
     "start_time": "2023-06-22T13:55:03.637756Z"
    }
   },
   "outputs": [
    {
     "data": {
      "text/html": [
       "<div><style>\n",
       ".dataframe > thead > tr > th,\n",
       ".dataframe > tbody > tr > td {\n",
       "  text-align: right;\n",
       "}\n",
       "</style>\n",
       "<small>shape: (3, 5)</small><table border=\"1\" class=\"dataframe\"><thead><tr><th>groups</th><th>nrs</th><th>count</th><th>random_sum</th><th>reversed names</th></tr><tr><td>str</td><td>i64</td><td>u32</td><td>f64</td><td>list[str]</td></tr></thead><tbody><tr><td>&quot;A&quot;</td><td>3</td><td>2</td><td>0.569018</td><td>[&quot;ham&quot;, &quot;foo&quot;]</td></tr><tr><td>&quot;C&quot;</td><td>null</td><td>1</td><td>0.288977</td><td>[&quot;egg&quot;]</td></tr><tr><td>&quot;B&quot;</td><td>8</td><td>2</td><td>0.917982</td><td>[null, &quot;spam&quot;]</td></tr></tbody></table></div>"
      ],
      "text/plain": [
       "shape: (3, 5)\n",
       "┌────────┬──────┬───────┬────────────┬────────────────┐\n",
       "│ groups ┆ nrs  ┆ count ┆ random_sum ┆ reversed names │\n",
       "│ ---    ┆ ---  ┆ ---   ┆ ---        ┆ ---            │\n",
       "│ str    ┆ i64  ┆ u32   ┆ f64        ┆ list[str]      │\n",
       "╞════════╪══════╪═══════╪════════════╪════════════════╡\n",
       "│ A      ┆ 3    ┆ 2     ┆ 0.569018   ┆ [\"ham\", \"foo\"] │\n",
       "│ C      ┆ null ┆ 1     ┆ 0.288977   ┆ [\"egg\"]        │\n",
       "│ B      ┆ 8    ┆ 2     ┆ 0.917982   ┆ [null, \"spam\"] │\n",
       "└────────┴──────┴───────┴────────────┴────────────────┘"
      ]
     },
     "execution_count": 15,
     "metadata": {},
     "output_type": "execute_result"
    }
   ],
   "source": [
    "out = df.groupby(\"groups\").agg([\n",
    "    pl.sum(\"nrs\"),  # sum nrs by groups\n",
    "    pl.col(\"random\").count().alias(\"count\"),  # count group members\n",
    "    # sum random where name != null\n",
    "    pl.col(\"random\").filter(pl.col(\"names\").is_not_null()\n",
    "                            ).sum().suffix(\"_sum\"),\n",
    "    pl.col(\"names\").reverse().alias((\"reversed names\")),\n",
    "])\n",
    "out"
   ]
  },
  {
   "cell_type": "code",
   "execution_count": 16,
   "id": "7832eed1",
   "metadata": {
    "ExecuteTime": {
     "end_time": "2023-06-22T13:55:32.741094Z",
     "start_time": "2023-06-22T13:55:32.200431Z"
    }
   },
   "outputs": [],
   "source": [
    "import pandas as pd\n",
    "import polars as pl"
   ]
  },
  {
   "cell_type": "raw",
   "id": "22e7b021",
   "metadata": {
    "ExecuteTime": {
     "end_time": "2023-06-21T08:42:59.004442Z",
     "start_time": "2023-06-21T08:42:50.769482Z"
    }
   },
   "source": [
    "!pip install pyarrow"
   ]
  },
  {
   "cell_type": "code",
   "execution_count": 17,
   "id": "a4b92fa4",
   "metadata": {
    "ExecuteTime": {
     "end_time": "2023-06-22T13:55:47.478389Z",
     "start_time": "2023-06-22T13:55:47.295144Z"
    }
   },
   "outputs": [
    {
     "data": {
      "text/html": [
       "<div>\n",
       "<style scoped>\n",
       "    .dataframe tbody tr th:only-of-type {\n",
       "        vertical-align: middle;\n",
       "    }\n",
       "\n",
       "    .dataframe tbody tr th {\n",
       "        vertical-align: top;\n",
       "    }\n",
       "\n",
       "    .dataframe thead th {\n",
       "        text-align: right;\n",
       "    }\n",
       "</style>\n",
       "<table border=\"1\" class=\"dataframe\">\n",
       "  <thead>\n",
       "    <tr style=\"text-align: right;\">\n",
       "      <th></th>\n",
       "      <th>year</th>\n",
       "      <th>month</th>\n",
       "      <th>day</th>\n",
       "      <th>dep_time</th>\n",
       "      <th>sched_dep_time</th>\n",
       "      <th>dep_delay</th>\n",
       "      <th>arr_time</th>\n",
       "      <th>sched_arr_time</th>\n",
       "      <th>arr_delay</th>\n",
       "      <th>carrier</th>\n",
       "      <th>flight</th>\n",
       "      <th>tailnum</th>\n",
       "      <th>origin</th>\n",
       "      <th>dest</th>\n",
       "      <th>air_time</th>\n",
       "      <th>distance</th>\n",
       "      <th>hour</th>\n",
       "      <th>minute</th>\n",
       "      <th>time_hour</th>\n",
       "    </tr>\n",
       "  </thead>\n",
       "  <tbody>\n",
       "    <tr>\n",
       "      <th>0</th>\n",
       "      <td>2013</td>\n",
       "      <td>1</td>\n",
       "      <td>1</td>\n",
       "      <td>517.0</td>\n",
       "      <td>515</td>\n",
       "      <td>2.0</td>\n",
       "      <td>830.0</td>\n",
       "      <td>819</td>\n",
       "      <td>11.0</td>\n",
       "      <td>UA</td>\n",
       "      <td>1545</td>\n",
       "      <td>N14228</td>\n",
       "      <td>EWR</td>\n",
       "      <td>IAH</td>\n",
       "      <td>227.0</td>\n",
       "      <td>1400</td>\n",
       "      <td>5</td>\n",
       "      <td>15</td>\n",
       "      <td>2013-01-01 05:00:00</td>\n",
       "    </tr>\n",
       "    <tr>\n",
       "      <th>1</th>\n",
       "      <td>2013</td>\n",
       "      <td>1</td>\n",
       "      <td>1</td>\n",
       "      <td>533.0</td>\n",
       "      <td>529</td>\n",
       "      <td>4.0</td>\n",
       "      <td>850.0</td>\n",
       "      <td>830</td>\n",
       "      <td>20.0</td>\n",
       "      <td>UA</td>\n",
       "      <td>1714</td>\n",
       "      <td>N24211</td>\n",
       "      <td>LGA</td>\n",
       "      <td>IAH</td>\n",
       "      <td>227.0</td>\n",
       "      <td>1416</td>\n",
       "      <td>5</td>\n",
       "      <td>29</td>\n",
       "      <td>2013-01-01 05:00:00</td>\n",
       "    </tr>\n",
       "    <tr>\n",
       "      <th>2</th>\n",
       "      <td>2013</td>\n",
       "      <td>1</td>\n",
       "      <td>1</td>\n",
       "      <td>542.0</td>\n",
       "      <td>540</td>\n",
       "      <td>2.0</td>\n",
       "      <td>923.0</td>\n",
       "      <td>850</td>\n",
       "      <td>33.0</td>\n",
       "      <td>AA</td>\n",
       "      <td>1141</td>\n",
       "      <td>N619AA</td>\n",
       "      <td>JFK</td>\n",
       "      <td>MIA</td>\n",
       "      <td>160.0</td>\n",
       "      <td>1089</td>\n",
       "      <td>5</td>\n",
       "      <td>40</td>\n",
       "      <td>2013-01-01 05:00:00</td>\n",
       "    </tr>\n",
       "    <tr>\n",
       "      <th>3</th>\n",
       "      <td>2013</td>\n",
       "      <td>1</td>\n",
       "      <td>1</td>\n",
       "      <td>544.0</td>\n",
       "      <td>545</td>\n",
       "      <td>-1.0</td>\n",
       "      <td>1004.0</td>\n",
       "      <td>1022</td>\n",
       "      <td>-18.0</td>\n",
       "      <td>B6</td>\n",
       "      <td>725</td>\n",
       "      <td>N804JB</td>\n",
       "      <td>JFK</td>\n",
       "      <td>BQN</td>\n",
       "      <td>183.0</td>\n",
       "      <td>1576</td>\n",
       "      <td>5</td>\n",
       "      <td>45</td>\n",
       "      <td>2013-01-01 05:00:00</td>\n",
       "    </tr>\n",
       "    <tr>\n",
       "      <th>4</th>\n",
       "      <td>2013</td>\n",
       "      <td>1</td>\n",
       "      <td>1</td>\n",
       "      <td>554.0</td>\n",
       "      <td>600</td>\n",
       "      <td>-6.0</td>\n",
       "      <td>812.0</td>\n",
       "      <td>837</td>\n",
       "      <td>-25.0</td>\n",
       "      <td>DL</td>\n",
       "      <td>461</td>\n",
       "      <td>N668DN</td>\n",
       "      <td>LGA</td>\n",
       "      <td>ATL</td>\n",
       "      <td>116.0</td>\n",
       "      <td>762</td>\n",
       "      <td>6</td>\n",
       "      <td>0</td>\n",
       "      <td>2013-01-01 06:00:00</td>\n",
       "    </tr>\n",
       "  </tbody>\n",
       "</table>\n",
       "</div>"
      ],
      "text/plain": [
       "   year  month  day  dep_time  sched_dep_time  dep_delay  arr_time  \\\n",
       "0  2013      1    1     517.0             515        2.0     830.0   \n",
       "1  2013      1    1     533.0             529        4.0     850.0   \n",
       "2  2013      1    1     542.0             540        2.0     923.0   \n",
       "3  2013      1    1     544.0             545       -1.0    1004.0   \n",
       "4  2013      1    1     554.0             600       -6.0     812.0   \n",
       "\n",
       "   sched_arr_time  arr_delay carrier  flight tailnum origin dest  air_time  \\\n",
       "0             819       11.0      UA    1545  N14228    EWR  IAH     227.0   \n",
       "1             830       20.0      UA    1714  N24211    LGA  IAH     227.0   \n",
       "2             850       33.0      AA    1141  N619AA    JFK  MIA     160.0   \n",
       "3            1022      -18.0      B6     725  N804JB    JFK  BQN     183.0   \n",
       "4             837      -25.0      DL     461  N668DN    LGA  ATL     116.0   \n",
       "\n",
       "   distance  hour  minute           time_hour  \n",
       "0      1400     5      15 2013-01-01 05:00:00  \n",
       "1      1416     5      29 2013-01-01 05:00:00  \n",
       "2      1089     5      40 2013-01-01 05:00:00  \n",
       "3      1576     5      45 2013-01-01 05:00:00  \n",
       "4       762     6       0 2013-01-01 06:00:00  "
      ]
     },
     "execution_count": 17,
     "metadata": {},
     "output_type": "execute_result"
    }
   ],
   "source": [
    "df = pd.read_parquet(\"flights.parquet\")\n",
    "df.head()"
   ]
  },
  {
   "cell_type": "code",
   "execution_count": 18,
   "id": "35e853b7",
   "metadata": {
    "ExecuteTime": {
     "end_time": "2023-06-22T13:55:51.363772Z",
     "start_time": "2023-06-22T13:55:51.357923Z"
    }
   },
   "outputs": [
    {
     "data": {
      "text/plain": [
       "(336776, 19)"
      ]
     },
     "execution_count": 18,
     "metadata": {},
     "output_type": "execute_result"
    }
   ],
   "source": [
    "df.shape"
   ]
  },
  {
   "cell_type": "code",
   "execution_count": null,
   "id": "7357e1cd",
   "metadata": {
    "ExecuteTime": {
     "end_time": "2023-06-22T13:37:01.069624Z",
     "start_time": "2023-06-22T13:36:58.667541Z"
    }
   },
   "outputs": [],
   "source": [
    "df.to_csv(\"flights.csv\")"
   ]
  },
  {
   "cell_type": "code",
   "execution_count": null,
   "id": "c2652e34",
   "metadata": {
    "ExecuteTime": {
     "end_time": "2023-06-22T13:37:01.088441Z",
     "start_time": "2023-06-22T13:37:01.070821Z"
    }
   },
   "outputs": [],
   "source": [
    "df.carrier.value_counts()"
   ]
  },
  {
   "cell_type": "code",
   "execution_count": 19,
   "id": "f28a10b8",
   "metadata": {
    "ExecuteTime": {
     "end_time": "2023-06-22T13:56:12.133096Z",
     "start_time": "2023-06-22T13:56:07.984857Z"
    },
    "scrolled": true
   },
   "outputs": [
    {
     "name": "stdout",
     "output_type": "stream",
     "text": [
      "50.1 ms ± 1.03 ms per loop (mean ± std. dev. of 7 runs, 10 loops each)\n"
     ]
    }
   ],
   "source": [
    "%%timeit\n",
    "df = pd.read_parquet(\"flights.parquet\")\n",
    "agg = df.groupby(['carrier']).agg(\n",
    "    {'dep_delay':'mean',\n",
    "    'arr_delay':'mean'}\n",
    ").sort_values('dep_delay')\n",
    "agg"
   ]
  },
  {
   "cell_type": "code",
   "execution_count": 20,
   "id": "87527d8e",
   "metadata": {
    "ExecuteTime": {
     "end_time": "2023-06-22T13:56:17.204694Z",
     "start_time": "2023-06-22T13:56:15.508023Z"
    }
   },
   "outputs": [
    {
     "name": "stdout",
     "output_type": "stream",
     "text": [
      "18.8 ms ± 843 µs per loop (mean ± std. dev. of 7 runs, 10 loops each)\n"
     ]
    }
   ],
   "source": [
    "%%timeit\n",
    "agg = (pl.read_parquet(\"flights.parquet\")\n",
    "       .groupby(['carrier'])\n",
    "       .agg(\n",
    "    [pl.col('dep_delay').mean().alias(\"dep_delay\"),\n",
    "     pl.col('arr_delay').mean().alias(\"arr_delay\")\n",
    "    ]\n",
    "    ).sort(pl.col('dep_delay'))\n",
    "      )\n",
    "agg"
   ]
  },
  {
   "cell_type": "markdown",
   "id": "47978e31",
   "metadata": {},
   "source": [
    "# Happy Learning"
   ]
  }
 ],
 "metadata": {
  "kernelspec": {
   "display_name": "Python 3 (ipykernel)",
   "language": "python",
   "name": "python3"
  },
  "language_info": {
   "codemirror_mode": {
    "name": "ipython",
    "version": 3
   },
   "file_extension": ".py",
   "mimetype": "text/x-python",
   "name": "python",
   "nbconvert_exporter": "python",
   "pygments_lexer": "ipython3",
   "version": "3.9.13"
  },
  "varInspector": {
   "cols": {
    "lenName": 16,
    "lenType": 16,
    "lenVar": 40
   },
   "kernels_config": {
    "python": {
     "delete_cmd_postfix": "",
     "delete_cmd_prefix": "del ",
     "library": "var_list.py",
     "varRefreshCmd": "print(var_dic_list())"
    },
    "r": {
     "delete_cmd_postfix": ") ",
     "delete_cmd_prefix": "rm(",
     "library": "var_list.r",
     "varRefreshCmd": "cat(var_dic_list()) "
    }
   },
   "types_to_exclude": [
    "module",
    "function",
    "builtin_function_or_method",
    "instance",
    "_Feature"
   ],
   "window_display": false
  }
 },
 "nbformat": 4,
 "nbformat_minor": 5
}
