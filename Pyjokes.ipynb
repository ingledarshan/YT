{
  "nbformat": 4,
  "nbformat_minor": 0,
  "metadata": {
    "colab": {
      "provenance": []
    },
    "kernelspec": {
      "name": "python3",
      "display_name": "Python 3"
    },
    "language_info": {
      "name": "python"
    }
  },
  "cells": [
    {
      "cell_type": "code",
      "execution_count": 1,
      "metadata": {
        "colab": {
          "base_uri": "https://localhost:8080/"
        },
        "id": "0s0BvbQPiJxP",
        "outputId": "5ecc1dd9-7d53-4308-b0c0-a13fecbfe4d6"
      },
      "outputs": [
        {
          "output_type": "stream",
          "name": "stdout",
          "text": [
            "Collecting pyjokes\n",
            "  Downloading pyjokes-0.6.0-py2.py3-none-any.whl (26 kB)\n",
            "Installing collected packages: pyjokes\n",
            "Successfully installed pyjokes-0.6.0\n"
          ]
        }
      ],
      "source": [
        "!pip install pyjokes"
      ]
    },
    {
      "cell_type": "code",
      "source": [
        "import pyjokes as pj"
      ],
      "metadata": {
        "id": "XsZcCzpbi-6W"
      },
      "execution_count": 6,
      "outputs": []
    },
    {
      "cell_type": "code",
      "source": [
        "pj.get_joke()"
      ],
      "metadata": {
        "colab": {
          "base_uri": "https://localhost:8080/",
          "height": 35
        },
        "id": "pNATKu8uje2C",
        "outputId": "52e93b9a-597b-48cd-eacc-8c957123e5c8"
      },
      "execution_count": 7,
      "outputs": [
        {
          "output_type": "execute_result",
          "data": {
            "text/plain": [
              "\"My friend's in a band called '1023 Megabytes'... They haven't got a gig yet!\""
            ],
            "application/vnd.google.colaboratory.intrinsic+json": {
              "type": "string"
            }
          },
          "metadata": {},
          "execution_count": 7
        }
      ]
    },
    {
      "cell_type": "code",
      "source": [
        "pj.get_joke()"
      ],
      "metadata": {
        "colab": {
          "base_uri": "https://localhost:8080/",
          "height": 35
        },
        "id": "j6aoxH9-jfy_",
        "outputId": "53913896-67b6-4971-ac1b-e611a893e0bb"
      },
      "execution_count": 8,
      "outputs": [
        {
          "output_type": "execute_result",
          "data": {
            "text/plain": [
              "\"What's the object-oriented way to become wealthy? Inheritance.\""
            ],
            "application/vnd.google.colaboratory.intrinsic+json": {
              "type": "string"
            }
          },
          "metadata": {},
          "execution_count": 8
        }
      ]
    },
    {
      "cell_type": "code",
      "source": [
        "pj.get_jokes()"
      ],
      "metadata": {
        "colab": {
          "base_uri": "https://localhost:8080/"
        },
        "id": "vjepwIBljhHH",
        "outputId": "e383ccd4-efa8-47cc-be67-2342537ee48a"
      },
      "execution_count": 9,
      "outputs": [
        {
          "output_type": "execute_result",
          "data": {
            "text/plain": [
              "[\"Complaining about the lack of smoking shelters, the nicotine addicted Python programmers said there ought to be 'spaces for tabs'.\",\n",
              " 'Ubuntu users are apt to get this joke.',\n",
              " 'Obfuscated Reality Mappers (ORMs) can be useful database tools.',\n",
              " 'Asked to explain Unicode during an interview, Geoff went into detail about his final year university project. He was not hired.',\n",
              " \"Triumphantly, Beth removed Python 2.7 from her server in 2030. 'Finally!' she said with glee, only to see the announcement for Python 4.4.\",\n",
              " \"An SQL query goes into a bar, walks up to two tables and asks, 'Can I join you?'\",\n",
              " 'When your hammer is C++, everything begins to look like a thumb.',\n",
              " 'If you put a million monkeys at a million keyboards, one of them will eventually write a Java program. The rest of them will write Perl.',\n",
              " 'To understand recursion you must first understand recursion.',\n",
              " \"I suggested holding a 'Python Object Oriented Programming Seminar', but the acronym was unpopular.\",\n",
              " \"'Knock, knock.' 'Who's there?' ... very long pause ... 'Java.'\",\n",
              " \"How many programmers does it take to change a lightbulb? None, that's a hardware problem.\",\n",
              " \"What's the object-oriented way to become wealthy? Inheritance.\",\n",
              " \"Why don't jokes work in octal? Because 7 10 11.\",\n",
              " 'How many programmers does it take to change a lightbulb? None, they just make darkness a standard.',\n",
              " \"Two bytes meet. The first byte asks, 'Are you ill?' The second byte replies, 'No, just feeling a bit off.'\",\n",
              " \"Two threads walk into a bar. The barkeeper looks up and yells, 'Hey, I want don't any conditions race like time last!'\",\n",
              " \"Old C programmers don't die, they're just cast into void.\",\n",
              " \"Eight bytes walk into a bar. The bartender asks, 'Can I get you anything?' 'Yeah,' replies the bytes. 'Make us a double.'\",\n",
              " \"Why did the programmer quit his job? Because he didn't get arrays.\",\n",
              " \"Why do Java programmers have to wear glasses? Because they don't see sharp.\",\n",
              " 'Software developers like to solve problems. If there are no problems handily available, they will create their own.',\n",
              " \".NET was named .NET so that it wouldn't show up in a Unix directory listing.\",\n",
              " 'Hardware: The part of a computer that you can kick.',\n",
              " \"A programmer was found dead in the shower. Next to their body was a bottle of shampoo with the instructions 'Lather, Rinse and Repeat'.\",\n",
              " 'Optimist: The glass is half full. Pessimist: The glass is half empty. Programmer: The glass is twice as large as necessary.',\n",
              " 'In C we had to code our own bugs. In C++ we can inherit them.',\n",
              " 'How come there is no obfuscated Perl contest? Because everyone would win.',\n",
              " \"If you play a Windows CD backwards, you'll hear satanic chanting ... worse still, if you play it forwards, it installs Windows.\",\n",
              " 'How many programmers does it take to kill a cockroach? Two: one holds, the other installs Windows on it.',\n",
              " 'What do you call a programmer from Finland? Nerdic.',\n",
              " \"What did the Java code say to the C code? A: You've got no class.\",\n",
              " \"Why did Microsoft name their search engine BING? Because It's Not Google.\",\n",
              " \"Pirates go 'arg!', computer pirates go 'argv!'\",\n",
              " 'Software salesmen and used-car salesmen differ in that the latter know when they are lying.',\n",
              " \"Child: Dad, why does the sun rise in the east and set in the west? Dad: Son, it's working, don't touch it.\",\n",
              " 'Why do programmers confuse Halloween with Christmas? Because OCT 31 == DEC 25.',\n",
              " 'How many Prolog programmers does it take to change a lightbulb? false.',\n",
              " 'Real programmers can write assembly code in any language.',\n",
              " 'Waiter: Would you like coffee or tea? Programmer: Yes.',\n",
              " 'What do you get when you cross a cat and a dog? Cat dog sin theta.',\n",
              " \"If loving you is ROM I don't wanna read write.\",\n",
              " 'A programmer walks into a foo...',\n",
              " \"A programmer walks into a bar and orders 1.38 root beers. The bartender informs her it's a root beer float. She says 'Make it a double!'\",\n",
              " \"What is Benoit B. Mandelbrot's middle name? Benoit B. Mandelbrot.\",\n",
              " \"Why are you always smiling? That's just my... regular expression.\",\n",
              " 'ASCII stupid question, get a stupid ANSI.',\n",
              " \"A programmer had a problem. He thought to himself, 'I know, I'll solve it with threads!'. has Now problems. two he\",\n",
              " 'Why do sin and tan work? Just cos.',\n",
              " 'Java: Write once, run away.',\n",
              " 'I would tell you a joke about UDP, but you would never get it.',\n",
              " 'A QA engineer walks into a bar. Runs into a bar. Crawls into a bar. Dances into a bar. Tiptoes into a bar. Rams a bar. Jumps into a bar.',\n",
              " \"My friend's in a band called '1023 Megabytes'... They haven't got a gig yet!\",\n",
              " \"I had a problem so I thought I'd use Java. Now I have a ProblemFactory.\",\n",
              " 'QA Engineer walks into a bar. Orders a beer. Orders 0 beers. Orders 999999999 beers. Orders a lizard. Orders -1 beers. Orders a sfdeljknesv.',\n",
              " 'A product manager walks into a bar, asks for drink. Bartender says no, but will consider adding later.',\n",
              " 'How do you generate a random string? Put a first year Computer Science student in Vim and ask them to save and exit.',\n",
              " \"I've been using Vim for a long time now, mainly because I can't figure out how to exit.\",\n",
              " \"How do you know whether a person is a Vim user? Don't worry, they'll tell you.\",\n",
              " \"Waiter: He's choking! Is anyone a doctor? Programmer: I'm a Vim user.\",\n",
              " \"3 Database Admins walked into a NoSQL bar. A little while later they walked out because they couldn't find a table.\",\n",
              " 'How to explain the movie Inception to a programmer? When you run a VM inside another VM, inside another VM ... everything runs real slow!',\n",
              " 'What do you call a parrot that says \"Squawk! Pieces of nine! Pieces of nine!\"? A parrot-ey error.',\n",
              " 'There are only two hard problems in Computer Science: cache invalidation, naming things and off-by-one-errors.',\n",
              " \"There are 10 types of people: those who understand binary and those who don't.\",\n",
              " 'There are 2 types of people: those who can extrapolate from incomplete data sets...',\n",
              " \"There are II types of people: Those who understand Roman Numerals and those who don't.\",\n",
              " 'There are 10 types of people: those who understand hexadecimal and 15 others.',\n",
              " \"There are 10 types of people: those who understand binary, those who don't, and those who were expecting this joke to be in trinary.\",\n",
              " \"There are 10 types of people: those who understand trinary, those who don't, and those who have never heard of it.\",\n",
              " 'What do you call eight hobbits? A hobbyte.',\n",
              " 'The best thing about a Boolean is even if you are wrong, you are only off by a bit.',\n",
              " 'A good programmer is someone who always looks both ways before crossing a one-way street.',\n",
              " 'There are two ways to write error-free programs; only the third one works.',\n",
              " 'QAs consist of 55% water, 30% blood and 15% Jira tickets.',\n",
              " 'Sympathy for the Devil is really just about being nice to QAs.',\n",
              " \"How many QAs does it take to change a lightbulb? They noticed that the room was dark. They don't fix problems, they find them.\",\n",
              " 'A programmer crashes a car at the bottom of a hill, a bystander asks what happened, he says \"No idea. Let\\'s push it back up and try again\".',\n",
              " \"What do you mean 911 is only for emergencies? I've got a merge conflict.\",\n",
              " \"Writing PHP is like peeing in the swimming pool, everyone did it, but we don't need to bring it up in public.\",\n",
              " \"Why did the QA cross the road? To ruin everyone's day.\",\n",
              " 'Number of days since I have encountered an array index error: -1.',\n",
              " 'Number of days since I have encountered an off-by-one error: 0.',\n",
              " 'Speed dating is useless. 5 minutes is not enough to properly explain the benefits of the Unix philosophy.',\n",
              " 'Microsoft hold a bi-monthly internal \"productive week\" where they use Google instead of Bing.',\n",
              " \"Schrodinger's attitude to web development: If I don't look at it in Internet Explorer then there's a chance it looks fine.\",\n",
              " 'Finding a good PHP developer is like looking for a needle in a haystack. Or is it a hackstack in a needle?',\n",
              " \"Unix is user friendly. It's just very particular about who its friends are.\",\n",
              " 'A COBOL programmer makes millions with Y2K remediation and decides to get cryogenically frozen. \"The year is 9999. You know COBOL, right?\"',\n",
              " 'The C language combines all the power of assembly language with all the ease-of-use of assembly language.',\n",
              " 'An SEO expert walks into a bar, bars, pub, public house, Irish pub, tavern, bartender, beer, liquor, wine, alcohol, spirits...',\n",
              " \"What does 'Emacs' stand for? 'Exclusively used by middle aged computer scientists.'\",\n",
              " 'What does pyjokes have in common with Adobe Flash? It gets updated all the time, but never gets any better.',\n",
              " \"Why does Waldo only wear stripes? Because he doesn't want to be spotted.\",\n",
              " 'I went to a street where the houses were numbered 8k, 16k, 32k, 64k, 128k, 256k and 512k. It was a trip down Memory Lane.',\n",
              " \"!false, (It's funny because it's true)\",\n",
              " \"['hip', 'hip'] (hip hip array!)\"]"
            ]
          },
          "metadata": {},
          "execution_count": 9
        }
      ]
    },
    {
      "cell_type": "markdown",
      "source": [
        "# Happy Learning"
      ],
      "metadata": {
        "id": "lILwpYPlkmmv"
      }
    }
  ]
}